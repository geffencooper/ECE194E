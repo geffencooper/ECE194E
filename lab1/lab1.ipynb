{
 "cells": [
  {
   "cell_type": "markdown",
   "metadata": {},
   "source": [
    "# Basic Jupyter Notebook Tutorial\n",
    "\n",
    "This lab serves as a quick overview of Jupyter Notebooks, numpy, matplotlib, and simulations in Python, which we will use throughout the course. If you are unfamiliar with these, you should carefully read through all of the examples. You are only required to answer the two questions at the bottom for credit.\n",
    "\n",
    "\n"
   ]
  },
  {
   "cell_type": "markdown",
   "metadata": {},
   "source": [
    "## General Jupyter Notebook Usage Instructions (Overview)\n",
    "- Click the `Play` button to run and advance a cell. The short-cut for it is `Shift-Enter`.\n",
    "- To add a new cell, click the `Plus` button.\n",
    "- You can change the cell mode from code to text in the pulldown menu. Use `Markdown` for writing text.\n",
    "- You can change the text in `Markdown` cells by double-clicking it. The short-cut for this is `enter`.\n",
    "- To save your notebook, hit `Command-s` for Mac and `Ctrl-s` for Windows.\n",
    "- To undo edits within a cell, hit `Command-z` for Mac and `Ctrl-z` for Windows."
   ]
  },
  {
   "cell_type": "markdown",
   "metadata": {},
   "source": [
    "## Help\n",
    "Another useful feature is the help command. Type any function followed by `?` and run the cell to return a help window. Hit the `x` button to close it."
   ]
  },
  {
   "cell_type": "code",
   "execution_count": 3,
   "metadata": {},
   "outputs": [
    {
     "name": "stdout",
     "output_type": "stream",
     "text": [
      "\u001b[1;31mSignature:\u001b[0m \u001b[0mabs\u001b[0m\u001b[1;33m(\u001b[0m\u001b[0mx\u001b[0m\u001b[1;33m,\u001b[0m \u001b[1;33m/\u001b[0m\u001b[1;33m)\u001b[0m\u001b[1;33m\u001b[0m\u001b[1;33m\u001b[0m\u001b[0m\n",
      "\u001b[1;31mDocstring:\u001b[0m Return the absolute value of the argument.\n",
      "\u001b[1;31mType:\u001b[0m      builtin_function_or_method\n"
     ]
    }
   ],
   "source": [
    "abs?"
   ]
  },
  {
   "cell_type": "markdown",
   "metadata": {},
   "source": [
    "## Floats and Integers\n",
    "Doing math in Python is easy, but note that there are `int` and `float` types in Python.  In Python 3, integer division returns the same results as floating point division."
   ]
  },
  {
   "cell_type": "code",
   "execution_count": 4,
   "metadata": {},
   "outputs": [
    {
     "data": {
      "text/plain": [
       "0.6781609195402298"
      ]
     },
     "execution_count": 4,
     "metadata": {},
     "output_type": "execute_result"
    }
   ],
   "source": [
    "59 / 87"
   ]
  },
  {
   "cell_type": "code",
   "execution_count": 5,
   "metadata": {},
   "outputs": [
    {
     "data": {
      "text/plain": [
       "0.6781609195402298"
      ]
     },
     "execution_count": 5,
     "metadata": {},
     "output_type": "execute_result"
    }
   ],
   "source": [
    "59 / 87.0"
   ]
  },
  {
   "cell_type": "markdown",
   "metadata": {},
   "source": [
    "## Strings\n",
    "- Double quotes and single quotes are the same thing. \n",
    "- `'+'` concatenates strings."
   ]
  },
  {
   "cell_type": "code",
   "execution_count": 6,
   "metadata": {},
   "outputs": [
    {
     "data": {
      "text/plain": [
       "'Hi Bye'"
      ]
     },
     "execution_count": 6,
     "metadata": {},
     "output_type": "execute_result"
    }
   ],
   "source": [
    "# This is a comment.\n",
    "\"Hi \" + 'Bye'"
   ]
  },
  {
   "cell_type": "markdown",
   "metadata": {},
   "source": [
    "## Printing\n",
    "Here are some fancy ways of printing:"
   ]
  },
  {
   "cell_type": "code",
   "execution_count": 7,
   "metadata": {},
   "outputs": [],
   "source": [
    "speed_of_light = 299792458\n",
    "speed_of_sound = 343"
   ]
  },
  {
   "cell_type": "code",
   "execution_count": 8,
   "metadata": {},
   "outputs": [
    {
     "name": "stdout",
     "output_type": "stream",
     "text": [
      "Light travels at 299792458 meters per second. This can be formatted as: 3.00E+08 meters per second.\n"
     ]
    }
   ],
   "source": [
    "print(\"Light travels at %d meters per second. This can be formatted as: %.2E meters per second.\"% (speed_of_light, speed_of_light))"
   ]
  },
  {
   "cell_type": "code",
   "execution_count": 9,
   "metadata": {},
   "outputs": [
    {
     "name": "stdout",
     "output_type": "stream",
     "text": [
      "The speed of sound is 343 meters per second. That is 0.00011441248465296614% the speed of light.\n"
     ]
    }
   ],
   "source": [
    "print (\"The speed of sound is {0} meters per second. That is {1}% the speed of light.\" \\\n",
    "    .format(speed_of_sound, speed_of_sound / speed_of_light * 100))"
   ]
  },
  {
   "cell_type": "code",
   "execution_count": 10,
   "metadata": {},
   "outputs": [
    {
     "name": "stdout",
     "output_type": "stream",
     "text": [
      "Good Luck! Prepare to work hard and learn a lot of cool stuff!\n"
     ]
    }
   ],
   "source": [
    "print(\"Good Luck! Prepare to work hard and learn a lot of cool stuff!\")"
   ]
  },
  {
   "cell_type": "markdown",
   "metadata": {},
   "source": [
    "## Lists\n",
    "A list is a mutable array of data, i.e. it can constantly be modified. See http://stackoverflow.com/questions/8056130/immutable-vs-mutable-types-python for more info. If you are not careful, using mutable data structures can lead to bugs in code that passes common data to many different functions.\n",
    "\n",
    "Important functions: \n",
    "- Created a list by using square brackets `[ ]`.\n",
    "- `'+'` appends lists. \n",
    "- `len(x)` gets the length of list `x`."
   ]
  },
  {
   "cell_type": "code",
   "execution_count": 11,
   "metadata": {},
   "outputs": [
    {
     "name": "stdout",
     "output_type": "stream",
     "text": [
      "[1, 2, 'asdf', 4, 5, 6]\n"
     ]
    }
   ],
   "source": [
    "x = [1, 2, \"asdf\"] + [4, 5, 6]\n",
    "\n",
    "print(x)"
   ]
  },
  {
   "cell_type": "code",
   "execution_count": 12,
   "metadata": {},
   "outputs": [
    {
     "name": "stdout",
     "output_type": "stream",
     "text": [
      "6\n"
     ]
    }
   ],
   "source": [
    "print(len(x))"
   ]
  },
  {
   "cell_type": "markdown",
   "metadata": {},
   "source": [
    "## Tuples\n",
    "A tuple is an immutable list. They can be created using round brackets ( ). \n",
    "\n",
    "They are usually used as inputs and outputs to functions."
   ]
  },
  {
   "cell_type": "code",
   "execution_count": 13,
   "metadata": {},
   "outputs": [
    {
     "name": "stdout",
     "output_type": "stream",
     "text": [
      "(1, 2, 'asdf', 3, 4, 5)\n"
     ]
    }
   ],
   "source": [
    "t = (1, 2, \"asdf\") + (3, 4, 5)\n",
    "print(t)"
   ]
  },
  {
   "cell_type": "code",
   "execution_count": 14,
   "metadata": {},
   "outputs": [],
   "source": [
    "# cannot do assignment\n",
    "# t[0] = 10\n",
    "\n",
    "# errors in Jupyter Notebook appear inline"
   ]
  },
  {
   "cell_type": "markdown",
   "metadata": {},
   "source": [
    "## Arrays (NumPy)\n",
    "A NumPy array is like a list with multidimensional support and more functions. We will be using it a lot.\n",
    "\n",
    "Arithmetic operations on NumPy arrays correspond to elementwise operations. \n",
    "\n",
    "Important functions:\n",
    "\n",
    "- `.shape` returns the dimensions of the array.\n",
    "\n",
    "- `.ndim` returns the number of dimensions. \n",
    "\n",
    "- `.size` returns the number of entries in the array.\n",
    "\n",
    "- `len()` returns the first dimension.\n",
    "\n",
    "\n",
    "To use functions in NumPy, we have to import NumPy to our workspace. This is done by the command `import numpy`. By convention, we rename `numpy` as `np` for convenience."
   ]
  },
  {
   "cell_type": "code",
   "execution_count": 15,
   "metadata": {},
   "outputs": [
    {
     "name": "stdout",
     "output_type": "stream",
     "text": [
      "[[1 2 3]\n",
      " [4 5 6]]\n"
     ]
    }
   ],
   "source": [
    "# by convention, import numpy as np\n",
    "import numpy as np\n",
    "x = np.array([[1, 2, 3], [4, 5, 6]])\n",
    "\n",
    "print(x)"
   ]
  },
  {
   "cell_type": "code",
   "execution_count": 16,
   "metadata": {},
   "outputs": [
    {
     "name": "stdout",
     "output_type": "stream",
     "text": [
      "Number of Dimensions: 2\n"
     ]
    }
   ],
   "source": [
    "print(\"Number of Dimensions:\", x.ndim)"
   ]
  },
  {
   "cell_type": "code",
   "execution_count": 17,
   "metadata": {},
   "outputs": [
    {
     "name": "stdout",
     "output_type": "stream",
     "text": [
      "Dimensions: (2, 3)\n"
     ]
    }
   ],
   "source": [
    "print(\"Dimensions:\", x.shape)"
   ]
  },
  {
   "cell_type": "code",
   "execution_count": 18,
   "metadata": {},
   "outputs": [
    {
     "name": "stdout",
     "output_type": "stream",
     "text": [
      "Size: 6\n"
     ]
    }
   ],
   "source": [
    "print(\"Size:\", x.size)"
   ]
  },
  {
   "cell_type": "code",
   "execution_count": 19,
   "metadata": {},
   "outputs": [
    {
     "name": "stdout",
     "output_type": "stream",
     "text": [
      "Length: 2\n"
     ]
    }
   ],
   "source": [
    "print(\"Length:\", len(x))"
   ]
  },
  {
   "cell_type": "code",
   "execution_count": 20,
   "metadata": {},
   "outputs": [
    {
     "name": "stdout",
     "output_type": "stream",
     "text": [
      "a =  [1 2 3]\n",
      "a * a =  [1 4 9]\n"
     ]
    }
   ],
   "source": [
    "a = np.array([1, 2, 3])\n",
    "\n",
    "print(\"a = \", a)\n",
    "\n",
    "# elementwise arithmetic\n",
    "print(\"a * a = \", a * a)"
   ]
  },
  {
   "cell_type": "code",
   "execution_count": 21,
   "metadata": {},
   "outputs": [
    {
     "name": "stdout",
     "output_type": "stream",
     "text": [
      "b =\n",
      " [[2. 2. 2.]\n",
      " [2. 2. 2.]\n",
      " [2. 2. 2.]]\n",
      "c =\n",
      " [[1. 1. 1.]\n",
      " [1. 1. 1.]\n",
      " [1. 1. 1.]]\n"
     ]
    }
   ],
   "source": [
    "b = np.array(np.ones((3, 3))) * 2\n",
    "print(\"b =\\n\", b)\n",
    "c = np.array(np.ones((3, 3)))\n",
    "print(\"c =\\n\", c)"
   ]
  },
  {
   "cell_type": "markdown",
   "metadata": {},
   "source": [
    "Multiply elementwise:"
   ]
  },
  {
   "cell_type": "code",
   "execution_count": 22,
   "metadata": {},
   "outputs": [
    {
     "name": "stdout",
     "output_type": "stream",
     "text": [
      "b * c =\n",
      " [[2. 2. 2.]\n",
      " [2. 2. 2.]\n",
      " [2. 2. 2.]]\n"
     ]
    }
   ],
   "source": [
    "print(\"b * c =\\n\", b * c)"
   ]
  },
  {
   "cell_type": "markdown",
   "metadata": {},
   "source": [
    "Now multiply as matrices (not arrays):"
   ]
  },
  {
   "cell_type": "code",
   "execution_count": 23,
   "metadata": {},
   "outputs": [
    {
     "name": "stdout",
     "output_type": "stream",
     "text": [
      "b * c =\n",
      " [[6. 6. 6.]\n",
      " [6. 6. 6.]\n",
      " [6. 6. 6.]]\n"
     ]
    }
   ],
   "source": [
    "print(\"b * c =\\n\", np.dot(b, c))"
   ]
  },
  {
   "cell_type": "markdown",
   "metadata": {},
   "source": [
    "With Python3, you can also use the \"@\" operator for the dot product"
   ]
  },
  {
   "cell_type": "code",
   "execution_count": 24,
   "metadata": {},
   "outputs": [
    {
     "name": "stdout",
     "output_type": "stream",
     "text": [
      "b * c =\n",
      " [[6. 6. 6.]\n",
      " [6. 6. 6.]\n",
      " [6. 6. 6.]]\n"
     ]
    }
   ],
   "source": [
    "print(\"b * c =\\n\", b @ c)"
   ]
  },
  {
   "cell_type": "markdown",
   "metadata": {},
   "source": [
    "## Slicing for NumPy Arrays\n",
    "NumPy uses pass-by-reference semantics so it creates views into the existing array, without implicit copying. This is particularly helpful with very large arrays because copying can be slow."
   ]
  },
  {
   "cell_type": "code",
   "execution_count": 25,
   "metadata": {},
   "outputs": [
    {
     "name": "stdout",
     "output_type": "stream",
     "text": [
      "[1 2 3 4 5 6]\n"
     ]
    }
   ],
   "source": [
    "x = np.array([1, 2, 3, 4, 5, 6])\n",
    "print(x)"
   ]
  },
  {
   "cell_type": "markdown",
   "metadata": {},
   "source": [
    "We slice an array from `a` to `b - 1` with `[a:b]`."
   ]
  },
  {
   "cell_type": "code",
   "execution_count": 26,
   "metadata": {},
   "outputs": [
    {
     "name": "stdout",
     "output_type": "stream",
     "text": [
      "[1 2 3 4]\n"
     ]
    }
   ],
   "source": [
    "y = x[0:4]\n",
    "print(y)"
   ]
  },
  {
   "cell_type": "markdown",
   "metadata": {},
   "source": [
    "Since slicing does not copy the array, changing `y` changes `x`:"
   ]
  },
  {
   "cell_type": "code",
   "execution_count": 27,
   "metadata": {},
   "outputs": [
    {
     "name": "stdout",
     "output_type": "stream",
     "text": [
      "[7 2 3 4 5 6]\n",
      "[7 2 3 4]\n"
     ]
    }
   ],
   "source": [
    "y[0] = 7\n",
    "print(x)\n",
    "print(y)"
   ]
  },
  {
   "cell_type": "markdown",
   "metadata": {},
   "source": [
    "To actually copy `x`, we should use `.copy`:"
   ]
  },
  {
   "cell_type": "code",
   "execution_count": 28,
   "metadata": {},
   "outputs": [
    {
     "name": "stdout",
     "output_type": "stream",
     "text": [
      "[1 2 3 4 5 6]\n",
      "[7 2 3 4 5 6]\n"
     ]
    }
   ],
   "source": [
    "x = np.array([1, 2, 3, 4, 5, 6])\n",
    "y = x.copy()\n",
    "y[0] = 7\n",
    "print(x)\n",
    "print(y)"
   ]
  },
  {
   "cell_type": "markdown",
   "metadata": {},
   "source": [
    "## Plotting\n",
    "In this class we will use `matplotlib.pyplot` to plot signals and images.\n",
    "\n",
    "To begin with, we import `matplotlib.pyplot` as `plt` (again for convenience)."
   ]
  },
  {
   "cell_type": "code",
   "execution_count": 29,
   "metadata": {},
   "outputs": [],
   "source": [
    "import numpy as np\n",
    "# by convention, we import pyplot as plt\n",
    "import matplotlib.pyplot as plt\n",
    "\n",
    "\n",
    "# Using np.arange is very similair to matlabs built in indexing method and python range() method\n",
    "x = np.arange(start=0,stop=1,step=0.01)\n",
    "a = np.exp(-x)\n",
    "b = np.sin(x * 10.0) / 4.0 + 0.5\n",
    "\n",
    "# plot in browser instead of opening new windows\n",
    "%matplotlib inline"
   ]
  },
  {
   "cell_type": "code",
   "execution_count": 30,
   "metadata": {},
   "outputs": [
    {
     "name": "stdout",
     "output_type": "stream",
     "text": [
      "[0.   0.01 0.02 0.03 0.04 0.05 0.06 0.07 0.08 0.09 0.1  0.11 0.12 0.13\n",
      " 0.14 0.15 0.16 0.17 0.18 0.19 0.2  0.21 0.22 0.23 0.24 0.25 0.26 0.27\n",
      " 0.28 0.29 0.3  0.31 0.32 0.33 0.34 0.35 0.36 0.37 0.38 0.39 0.4  0.41\n",
      " 0.42 0.43 0.44 0.45 0.46 0.47 0.48 0.49 0.5  0.51 0.52 0.53 0.54 0.55\n",
      " 0.56 0.57 0.58 0.59 0.6  0.61 0.62 0.63 0.64 0.65 0.66 0.67 0.68 0.69\n",
      " 0.7  0.71 0.72 0.73 0.74 0.75 0.76 0.77 0.78 0.79 0.8  0.81 0.82 0.83\n",
      " 0.84 0.85 0.86 0.87 0.88 0.89 0.9  0.91 0.92 0.93 0.94 0.95 0.96 0.97\n",
      " 0.98 0.99]\n"
     ]
    }
   ],
   "source": [
    "# Remember that it this gives x=[0,1)\n",
    "print(x)"
   ]
  },
  {
   "cell_type": "markdown",
   "metadata": {},
   "source": [
    "`plt.plot(x, a)` plots `a` against `x`."
   ]
  },
  {
   "cell_type": "code",
   "execution_count": 31,
   "metadata": {},
   "outputs": [
    {
     "data": {
      "text/plain": [
       "[<matplotlib.lines.Line2D at 0x1a42a787280>]"
      ]
     },
     "execution_count": 31,
     "metadata": {},
     "output_type": "execute_result"
    },
    {
     "data": {
      "image/png": "[encoded data removed]",
      "text/plain": [
       "<Figure size 432x288 with 1 Axes>"
      ]
     },
     "metadata": {
      "needs_background": "light"
     },
     "output_type": "display_data"
    }
   ],
   "source": [
    "plt.figure()\n",
    "plt.plot(x, a)"
   ]
  },
  {
   "cell_type": "markdown",
   "metadata": {},
   "source": [
    "Once you started a figure, you can keep plotting to the same figure."
   ]
  },
  {
   "cell_type": "code",
   "execution_count": 32,
   "metadata": {},
   "outputs": [
    {
     "data": {
      "text/plain": [
       "[<matplotlib.lines.Line2D at 0x1a42a886880>]"
      ]
     },
     "execution_count": 32,
     "metadata": {},
     "output_type": "execute_result"
    },
    {
     "data": {
      "image/png": "[encoded data removed]",
      "text/plain": [
       "<Figure size 432x288 with 1 Axes>"
      ]
     },
     "metadata": {
      "needs_background": "light"
     },
     "output_type": "display_data"
    }
   ],
   "source": [
    "plt.figure()\n",
    "plt.plot(x, a, \"green\")\n",
    "plt.plot(x, b)"
   ]
  },
  {
   "cell_type": "markdown",
   "metadata": {},
   "source": [
    "To plot different plots, you can create a second figure."
   ]
  },
  {
   "cell_type": "code",
   "execution_count": 33,
   "metadata": {},
   "outputs": [
    {
     "data": {
      "text/plain": [
       "[<matplotlib.lines.Line2D at 0x1a42a93c6a0>]"
      ]
     },
     "execution_count": 33,
     "metadata": {},
     "output_type": "execute_result"
    },
    {
     "data": {
      "image/png": "[encoded data removed]",
      "text/plain": [
       "<Figure size 432x288 with 1 Axes>"
      ]
     },
     "metadata": {
      "needs_background": "light"
     },
     "output_type": "display_data"
    },
    {
     "data": {
      "image/png": "[encoded data removed]",
      "text/plain": [
       "<Figure size 432x288 with 1 Axes>"
      ]
     },
     "metadata": {
      "needs_background": "light"
     },
     "output_type": "display_data"
    }
   ],
   "source": [
    "plt.figure()\n",
    "plt.plot(x, a)\n",
    "plt.figure()\n",
    "plt.plot(x, b)"
   ]
  },
  {
   "cell_type": "markdown",
   "metadata": {},
   "source": [
    "To label the axes, use `plt.xlabel()` and `plt.ylabel()`."
   ]
  },
  {
   "cell_type": "code",
   "execution_count": 34,
   "metadata": {},
   "outputs": [
    {
     "data": {
      "text/plain": [
       "Text(0, 0.5, 'space')"
      ]
     },
     "execution_count": 34,
     "metadata": {},
     "output_type": "execute_result"
    },
    {
     "data": {
      "image/png": "[encoded data removed]",
      "text/plain": [
       "<Figure size 432x288 with 1 Axes>"
      ]
     },
     "metadata": {
      "needs_background": "light"
     },
     "output_type": "display_data"
    }
   ],
   "source": [
    "plt.figure()\n",
    "plt.plot(x, a)\n",
    "plt.plot(x, b)\n",
    "\n",
    "plt.xlabel(\"time\")\n",
    "plt.ylabel(\"space\")"
   ]
  },
  {
   "cell_type": "markdown",
   "metadata": {},
   "source": [
    "You can also add title and legends using `plt.title()` and `plt.legend()`."
   ]
  },
  {
   "cell_type": "code",
   "execution_count": 35,
   "metadata": {},
   "outputs": [
    {
     "data": {
      "text/plain": [
       "<matplotlib.legend.Legend at 0x1a42aa03850>"
      ]
     },
     "execution_count": 35,
     "metadata": {},
     "output_type": "execute_result"
    },
    {
     "data": {
      "image/png": "[encoded data removed]",
      "text/plain": [
       "<Figure size 432x288 with 1 Axes>"
      ]
     },
     "metadata": {
      "needs_background": "light"
     },
     "output_type": "display_data"
    }
   ],
   "source": [
    "plt.figure()\n",
    "plt.plot(x, a)\n",
    "plt.plot(x, b)\n",
    "plt.xlabel(\"time\")\n",
    "plt.ylabel(\"space\")\n",
    "\n",
    "plt.title(\"Most Important Graph in the World\")\n",
    "\n",
    "plt.legend((\"$\\exp(x)$\", \"$\\sin(x)$\"))"
   ]
  },
  {
   "cell_type": "markdown",
   "metadata": {},
   "source": [
    "There are many options you can specify in `plot()`, such as color and linewidth. You can also change the axis using `plt.axis`."
   ]
  },
  {
   "cell_type": "code",
   "execution_count": 36,
   "metadata": {},
   "outputs": [
    {
     "data": {
      "text/plain": [
       "(0.0, 4.0, -2.0, 3.0)"
      ]
     },
     "execution_count": 36,
     "metadata": {},
     "output_type": "execute_result"
    },
    {
     "data": {
      "image/png": "[encoded data removed]",
      "text/plain": [
       "<Figure size 432x288 with 1 Axes>"
      ]
     },
     "metadata": {
      "needs_background": "light"
     },
     "output_type": "display_data"
    }
   ],
   "source": [
    "plt.figure()\n",
    "plt.plot(x, a, \":r\", linewidth=20)\n",
    "plt.plot(x, b , \"--k\")\n",
    "plt.xlabel(\"time\")\n",
    "plt.ylabel(\"space\")\n",
    "\n",
    "plt.title(\"Most Important Graph in the World\")\n",
    "\n",
    "plt.legend((\"blue\", \"red\"))\n",
    "\n",
    "plt.axis([0, 4, -2, 3])"
   ]
  },
  {
   "cell_type": "markdown",
   "metadata": {},
   "source": [
    "There are many other plotting functions. For example, we will use `plt.imshow()` for showing images and `plt.stem()` for plotting discretized signals."
   ]
  },
  {
   "cell_type": "code",
   "execution_count": 37,
   "metadata": {},
   "outputs": [
    {
     "name": "stdout",
     "output_type": "stream",
     "text": [
      "(100, 100)\n"
     ]
    },
    {
     "data": {
      "text/plain": [
       "<matplotlib.image.AxesImage at 0x1a42abefac0>"
      ]
     },
     "execution_count": 37,
     "metadata": {},
     "output_type": "execute_result"
    },
    {
     "data": {
      "image/png": "[encoded data removed]",
      "text/plain": [
       "<Figure size 432x288 with 1 Axes>"
      ]
     },
     "metadata": {
      "needs_background": "light"
     },
     "output_type": "display_data"
    }
   ],
   "source": [
    "# image\n",
    "plt.figure()\n",
    "\n",
    "# plotting the outer product of a and b\n",
    "data = np.outer(a, b)\n",
    "# This returns a 100x100 matrix\n",
    "print(data.shape)\n",
    "plt.imshow(data)"
   ]
  },
  {
   "cell_type": "code",
   "execution_count": 38,
   "metadata": {},
   "outputs": [
    {
     "data": {
      "text/plain": [
       "<StemContainer object of 3 artists>"
      ]
     },
     "execution_count": 38,
     "metadata": {},
     "output_type": "execute_result"
    },
    {
     "data": {
      "image/png": "[encoded data removed]",
      "text/plain": [
       "<Figure size 432x288 with 1 Axes>"
      ]
     },
     "metadata": {
      "needs_background": "light"
     },
     "output_type": "display_data"
    }
   ],
   "source": [
    "# stem plot\n",
    "plt.figure()\n",
    "# subsample by 5\n",
    "plt.stem(x[::5], a[::5])"
   ]
  },
  {
   "cell_type": "code",
   "execution_count": 39,
   "metadata": {},
   "outputs": [
    {
     "data": {
      "text/plain": [
       "<matplotlib.legend.Legend at 0x1a42bc47100>"
      ]
     },
     "execution_count": 39,
     "metadata": {},
     "output_type": "execute_result"
    },
    {
     "data": {
      "image/png": "[encoded data removed]",
      "text/plain": [
       "<Figure size 432x288 with 1 Axes>"
      ]
     },
     "metadata": {
      "needs_background": "light"
     },
     "output_type": "display_data"
    }
   ],
   "source": [
    "plt.plot(x, a)\n",
    "plt.plot(x, b)\n",
    "plt.xlabel(\"time\")\n",
    "plt.ylabel(\"space\")\n",
    "\n",
    "plt.title(\"Most Important Graph in the World\")\n",
    "\n",
    "plt.legend((\"blue\", \"red\"))"
   ]
  },
  {
   "cell_type": "markdown",
   "metadata": {},
   "source": [
    "## Logic\n",
    "### For Loop\n",
    "Indentation matters in Python. Everything indented belongs to the loop:"
   ]
  },
  {
   "cell_type": "code",
   "execution_count": 40,
   "metadata": {},
   "outputs": [
    {
     "name": "stdout",
     "output_type": "stream",
     "text": [
      "4\n",
      "6\n",
      "asdf\n",
      "jkl\n"
     ]
    }
   ],
   "source": [
    "for i in [4, 6, \"asdf\", \"jkl\"]:\n",
    "    print(i)"
   ]
  },
  {
   "cell_type": "code",
   "execution_count": 41,
   "metadata": {},
   "outputs": [
    {
     "name": "stdout",
     "output_type": "stream",
     "text": [
      "0.0\n",
      "0.1\n",
      "0.2\n",
      "0.30000000000000004\n",
      "0.4\n",
      "0.5\n",
      "0.6000000000000001\n",
      "0.7000000000000001\n",
      "0.8\n",
      "0.9\n"
     ]
    }
   ],
   "source": [
    "for i in np.arange(0, 1, 0.1):\n",
    "    print(i)"
   ]
  },
  {
   "cell_type": "markdown",
   "metadata": {},
   "source": [
    "### If-Else\n",
    "Same goes for If-Else:"
   ]
  },
  {
   "cell_type": "code",
   "execution_count": 42,
   "metadata": {},
   "outputs": [
    {
     "name": "stdout",
     "output_type": "stream",
     "text": [
      "1 != 0\n"
     ]
    }
   ],
   "source": [
    "if 1 != 0:\n",
    "    print(\"1 != 0\")\n",
    "elif 1 == 0: \n",
    "    print(\"1 = 0\")\n",
    "else:\n",
    "    print(\"Huh?\")"
   ]
  },
  {
   "cell_type": "markdown",
   "metadata": {},
   "source": [
    "## Random Library\n",
    "*The NumPy random library should be your resource for all Monte Carlo simulations which require generating instances of random variables.*\n",
    "\n",
    "The documentation for the library can be found here: https://numpy.org/doc/stable/reference/random/\n",
    "\n",
    "This documentation has been changed in the past year, with the new methods relying on explicit use of the Generator class provided by NumPy. You may rely on the legacy versions relying on the RandomState class, but here I will outline the new version."
   ]
  },
  {
   "cell_type": "markdown",
   "metadata": {},
   "source": [
    "Call 'default_rng' to get a new instance of a Generator (default generator is the BitGenerator), then call its methods to oibtain samples from different distributions. \n",
    "\n",
    "For example, if we wanted to sample from a uniform distribution in the range of $[0,1)$:"
   ]
  },
  {
   "cell_type": "code",
   "execution_count": 43,
   "metadata": {},
   "outputs": [
    {
     "name": "stdout",
     "output_type": "stream",
     "text": [
      "0.6939330806573643\n",
      "[0.64145822 0.12864422 0.11370805 0.65334552 0.85345711]\n",
      "[[0.20177913 0.21801864 0.71658464]\n",
      " [0.47069967 0.41522193 0.3491478 ]\n",
      " [0.06385375 0.45466617 0.30145328]]\n"
     ]
    }
   ],
   "source": [
    "# Do this (new version)\n",
    "from numpy.random import default_rng\n",
    "# we can explicitly state the seed for the generator\n",
    "seed = 23\n",
    "rng = default_rng(seed)\n",
    "\n",
    "# random number\n",
    "print(rng.random())\n",
    "# random vector\n",
    "print(rng.random(5))\n",
    "# random matrix\n",
    "print(rng.random([3,3]))"
   ]
  },
  {
   "cell_type": "markdown",
   "metadata": {},
   "source": [
    "Let's see how we can use this to generate a fair coin toss (i.e. a discrete $\\operatorname{Bernoulli}(1/2)$ random variable).\n",
    "\n",
    "### TIP: \n",
    "Use \"Ctrl + Enter\" Instead of \"Shift + Enter\" to excecute a cell without moving down to the next cell."
   ]
  },
  {
   "cell_type": "code",
   "execution_count": 44,
   "metadata": {},
   "outputs": [
    {
     "name": "stdout",
     "output_type": "stream",
     "text": [
      "0\n"
     ]
    }
   ],
   "source": [
    "# Bernoulli(1/2) random variable\n",
    "x = round(rng.random())\n",
    "print(x)"
   ]
  },
  {
   "cell_type": "markdown",
   "metadata": {},
   "source": [
    "Now let's generate several fair coin tosses and plot a histogram of the results."
   ]
  },
  {
   "cell_type": "code",
   "execution_count": 45,
   "metadata": {},
   "outputs": [
    {
     "data": {
      "text/plain": [
       "(array([47.,  0.,  0.,  0.,  0.,  0.,  0.,  0.,  0., 53.]),\n",
       " array([0. , 0.1, 0.2, 0.3, 0.4, 0.5, 0.6, 0.7, 0.8, 0.9, 1. ]),\n",
       " <BarContainer object of 10 artists>)"
      ]
     },
     "execution_count": 45,
     "metadata": {},
     "output_type": "execute_result"
    },
    {
     "data": {
      "image/png": "[encoded data removed]",
      "text/plain": [
       "<Figure size 432x288 with 1 Axes>"
      ]
     },
     "metadata": {
      "needs_background": "light"
     },
     "output_type": "display_data"
    },
    {
     "data": {
      "image/png": "[encoded data removed]",
      "text/plain": [
       "<Figure size 432x288 with 1 Axes>"
      ]
     },
     "metadata": {
      "needs_background": "light"
     },
     "output_type": "display_data"
    }
   ],
   "source": [
    "k = 100\n",
    "# _ is commonly used in python when we do not want to reserve memory for a given variable\n",
    "x1 = [round(rng.random()) for _ in range(k)]\n",
    "plt.figure()\n",
    "plt.hist(x1)\n",
    "\n",
    "# we could also use NumPy's round function to elementwise round the vector.\n",
    "x2 = np.round(rng.random(k))\n",
    "plt.figure()\n",
    "plt.hist(x2)"
   ]
  },
  {
   "cell_type": "markdown",
   "metadata": {},
   "source": [
    "We can do something similar for several other distributions, and allow the histogram to give us a sense of what the distribution looks like. As we increase the number of samples we take from the distribution $k$, the more and more our histogram looks like the actual distribution.\n",
    "\n",
    "To see a list of distrubutions provided by the Generator method see: https://numpy.org/doc/stable/reference/random/generator.html#numpy.random.Generator"
   ]
  },
  {
   "cell_type": "code",
   "execution_count": 46,
   "metadata": {},
   "outputs": [
    {
     "data": {
      "text/plain": [
       "Text(0.5, 1.0, 'N(100, 40)')"
      ]
     },
     "execution_count": 46,
     "metadata": {},
     "output_type": "execute_result"
    },
    {
     "data": {
      "image/png": "[encoded data removed]",
      "text/plain": [
       "<Figure size 432x216 with 1 Axes>"
      ]
     },
     "metadata": {
      "needs_background": "light"
     },
     "output_type": "display_data"
    },
    {
     "data": {
      "image/png": "[encoded data removed]",
      "text/plain": [
       "<Figure size 432x216 with 1 Axes>"
      ]
     },
     "metadata": {
      "needs_background": "light"
     },
     "output_type": "display_data"
    },
    {
     "data": {
      "image/png": "[encoded data removed]",
      "text/plain": [
       "<Figure size 432x216 with 1 Axes>"
      ]
     },
     "metadata": {
      "needs_background": "light"
     },
     "output_type": "display_data"
    },
    {
     "data": {
      "image/png": "[encoded data removed]",
      "text/plain": [
       "<Figure size 432x216 with 1 Axes>"
      ]
     },
     "metadata": {
      "needs_background": "light"
     },
     "output_type": "display_data"
    }
   ],
   "source": [
    "k = 1000\n",
    "\n",
    "# k discrete uniform random variables between 0 and 9\n",
    "discrete_uniform = rng.integers(0, 10, size=k)\n",
    "plt.figure(figsize=(6, 3))\n",
    "plt.hist(discrete_uniform)\n",
    "plt.title(\"Discrete Uniform\")\n",
    "\n",
    "continuous_uniform = rng.random(k)\n",
    "plt.figure(figsize=(6, 3))\n",
    "plt.hist(continuous_uniform)\n",
    "plt.title(\"Continuous Uniform\")\n",
    "\n",
    "# standard_normal replaces the legacy randn method\n",
    "std_normal = rng.standard_normal(k)\n",
    "plt.figure(figsize=(6, 3))\n",
    "plt.hist(std_normal)\n",
    "plt.title(\"Standard Normal\")\n",
    "\n",
    "# To generate a normal distribution with mean mu and standard deviation sigma,\n",
    "# we must mean shift and scale the variable\n",
    "mu = 100\n",
    "sigma = 40\n",
    "normal_mu_sigma = mu + rng.standard_normal(k) * sigma\n",
    "plt.figure(figsize=(6, 3))\n",
    "plt.hist(normal_mu_sigma)\n",
    "plt.title(\"N({}, {})\".format(mu, sigma))"
   ]
  },
  {
   "cell_type": "markdown",
   "metadata": {},
   "source": [
    "^ We could do this all day with all sorts of distributions. I think you get the point."
   ]
  },
  {
   "cell_type": "markdown",
   "metadata": {},
   "source": [
    "### Specifying a Discrete Probability Distribution for Monte Carlo Sampling\n",
    "The following function takes $n$ sample from a discrete probability distribution specified by the two arrays `distribution` and `values`.\n",
    "\n",
    "As an example, let us suppose a random variable $X$ follows the following distribution:\n",
    "\n",
    "$$\n",
    "X = \\begin{cases} 1 \\ \\text{w/ probability 0.1} \\\\ 2 \\ \\text{w/ probability 0.4} \\\\ 3 \\ \\text{w/ probability 0.2} \\\\ 4 \\ \\text{w/ probability 0.2} \\\\ 5 \\ \\text{w/ probability 0.05} \\\\ 6 \\ \\text{w/ probability 0.05} \\end{cases}\n",
    "$$\n",
    "\n",
    "Then we would have:\n",
    "`distribution = [0.1, 0.4, 0.2, 0.2, 0.05, 0.05]` and\n",
    "`values = [1, 2, 3, 4, 5, 6]`."
   ]
  },
  {
   "cell_type": "code",
   "execution_count": 47,
   "metadata": {},
   "outputs": [],
   "source": [
    "# Note how default variables are defined in python functions, they must be placed last.\n",
    "def n_sample(distribution, values, n, seed=123):\n",
    "    if sum(distribution) != 1:\n",
    "        print(\"ERROR: elements of input: 'distribution' should sum to 1\")\n",
    "        return\n",
    "    rng = default_rng(seed)\n",
    "    # This method can be implemented with the numpy's choice method\n",
    "    samples = rng.choice(a=values,size=n,replace=True,p=distribution)\n",
    "    return samples"
   ]
  },
  {
   "cell_type": "code",
   "execution_count": 48,
   "metadata": {},
   "outputs": [
    {
     "name": "stdout",
     "output_type": "stream",
     "text": [
      "Wow, if we normalized the y-axis that would be a PMF. Incredible!\n",
      "I should try that.\n"
     ]
    },
    {
     "data": {
      "image/png": "[encoded data removed]",
      "text/plain": [
       "<Figure size 432x288 with 1 Axes>"
      ]
     },
     "metadata": {
      "needs_background": "light"
     },
     "output_type": "display_data"
    }
   ],
   "source": [
    "# collect k samples from X and plot the histogram\n",
    "samples_from_x = n_sample(\n",
    "    [0.1, 0.4, 0.2, 0.2, 0.05, 0.05], [1, 2, 3, 4, 5, 6], k)\n",
    "plt.hist(samples_from_x)\n",
    "plt.ylim((0, 1000))\n",
    "print(\"Wow, if we normalized the y-axis that would be a PMF. Incredible!\")\n",
    "print(\"I should try that.\")"
   ]
  },
  {
   "cell_type": "code",
   "execution_count": 49,
   "metadata": {},
   "outputs": [
    {
     "data": {
      "text/plain": [
       "(0.0, 1.0)"
      ]
     },
     "execution_count": 49,
     "metadata": {},
     "output_type": "execute_result"
    },
    {
     "data": {
      "image/png": "[encoded data removed]",
      "text/plain": [
       "<Figure size 432x288 with 1 Axes>"
      ]
     },
     "metadata": {
      "needs_background": "light"
     },
     "output_type": "display_data"
    }
   ],
   "source": [
    "# Normalize the samples from X to plot the probability mass function below:\n",
    "plt.hist(samples_from_x, bins=6, density=True)\n",
    "plt.ylim((0, 1))"
   ]
  },
  {
   "cell_type": "markdown",
   "metadata": {},
   "source": [
    "## $\\mathcal{Q}$uestion 1: Sampling and Plotting a Binomial Random Variable\n",
    "\n",
    "A binomial random variable $X \\sim \\operatorname{Binomial}(n,p)$ can be thought of as the number of heads in $n$ coin flips where each flip has probability $p$ of coming up heads.  We can equivalently think of it as the sum of $n$ Bernoulli random variables: $X = \\sum_{i=1}^{n}X_i$ where $X_i \\sim \\text{Bernoulli}(p)$.  \n",
    "\n",
    "In this question, you will put your new plotting skills to work and sample the values of a binomial random variable.   "
   ]
  },
  {
   "cell_type": "code",
   "execution_count": null,
   "metadata": {},
   "outputs": [],
   "source": [
    "def plot_binomial(\n",
    "        n, trials=[10], p_values=[0.5], seed = 12345):\n",
    "    \"\"\"\n",
    "    On different figures, plot a histogram of the results of the given\n",
    "    number of trials of the binomial variable with parameters n and p for all\n",
    "    values in the given list.\n",
    "    \n",
    "    You should generate 20 different plots in total.\n",
    "    \"\"\"\n",
    "\n",
    "    # iterate over the trials list\n",
    "    for i,t in enumerate(trials):\n",
    "        # iterate over the probabilities list\n",
    "        for j,p in enumerate(p_values):\n",
    "            successes = []\n",
    "            # sample the binomial random variable k times\n",
    "            for k in range(trials[i]):\n",
    "                # for each realization, count the number of successes\n",
    "                outcomes = n_sample(distribution=[1-p_values[j],p_values[j]], values=[0,1], n=n, seed=rng.random())\n",
    "                successes.append(np.sum(outcomes))\n",
    "            \n",
    "            # generate the plots\n",
    "            plt.figure()\n",
    "            plt.hist(successes,bins=trials[i],density=True)\n",
    "            plt.xlabel(\"Values\")\n",
    "            plt.ylabel(\"Distribution\")\n",
    "            plt.title(\"n: \" + str(n) + \", p(X = 1): \" + str(p_values[j]) + \", trials: \" + str(trials[i]))\n",
    "\n",
    "\n",
    "# Feel free to play around with other values of n.\n",
    "plot_binomial(5)"
   ]
  },
  {
   "cell_type": "markdown",
   "metadata": {},
   "source": [
    "Now that you have plotted many values of a few different binomial random variables, do the results coincide with what you expect them to?"
   ]
  },
  {
   "cell_type": "markdown",
   "metadata": {},
   "source": [
    "## $\\mathcal{Q}$uestion 2: Monte Carlo Method for Estimating Coin Flips\n",
    "\n",
    "After going through this tutorial, you might wonder: why should we bother with NumPy at all?\n",
    "\n",
    "While many of you may not have used NumPy previously, or not see the purpose in learning this library, we strongly urge you to force yourself to use NumPy as much as possible while doing virtual labs. \n",
    "\n",
    "NumPy (and using matrix operations rather than loops) is your friend when it comes to efficiently dealing with lots of data or doing elaborate simulations. If you find yourself using many loops or list comprehensions to process data, think about using NumPy. Furthermore, NumPy is widely used in industry and academic research, and so it will benefit you greatly to become comfortable with it this semester! \n",
    "\n",
    "Let's work through an example to see the usefulness of NumPy."
   ]
  },
  {
   "cell_type": "markdown",
   "metadata": {},
   "source": [
    "### Estimate the Probability of Having More than 55 Heads in 100 Flips of a Fair Coin.\n",
    "\n",
    "Monte Carlo methods are algorithms that use probability and randomness to solve problems that would be difficult otherwise. Here, we will use a Monte Carlo simulation to approximate a coin toss experiment. \n",
    "\n",
    "Suppose we have a a fair coin. We want to find out what is the probability that out of 100 tosses of our coin, **more than 55** of them will be heads. Of course the exact answer can be found using the discrete probabilty mass function of the binomail distribution accordingly, but here we want to leverage computational techniques in order to approximate the probability of the given event.\n",
    "\n",
    "Lets denote this event as $A:$ \"The Event of Getting **More Than 55** Heads out of 100 Tosses of a Fair Coin\", where our goal is to approximate $P(A)$\n",
    "\n",
    "One way to find this probability is to run the experiment multiple times: \n",
    "\n",
    "$$P(A) \\approx \\frac{\\text{num of times event A occured}}{\\text{num of times experiment was run}}$$\n",
    "\n",
    "As we run the experiment more times, we get a better estimate of $P(A)$"
   ]
  },
  {
   "cell_type": "markdown",
   "metadata": {},
   "source": [
    "**A version of the simulation that does not use NumPy at all is given. Your job is to re-implement the simulation using NumPy to speed it up. For reference, the staff solution is > 10x better.**\n",
    "\n",
    "**As a final question:** \n",
    "\n",
    "**After computing the probability with Monte Carlo simulation, compare it to the result derived when applying the Central Limit Theorem to our problem. **"
   ]
  },
  {
   "cell_type": "code",
   "execution_count": 49,
   "metadata": {},
   "outputs": [],
   "source": [
    "import time\n",
    "import random\n",
    "\n",
    "def monte_carlo_coin(N):\n",
    "    '''\n",
    "    This function will return an estimate of P(A) defined above.\n",
    "\n",
    "    Inputs:\n",
    "        N - Number of times the experiment was run\n",
    "    '''\n",
    "    count = 0\n",
    "    for _ in range(N):\n",
    "        num_heads = 0\n",
    "        for _ in range(100):\n",
    "            coin = random.random()\n",
    "            if coin > 0.5:\n",
    "                num_heads += 1\n",
    "        if num_heads > 55:\n",
    "            count += 1\n",
    "\n",
    "    return count/N\n",
    "    \n",
    "    \n",
    "def monte_carlo_coin_numpy(N, seed=12345):\n",
    "    rng = default_rng(seed)\n",
    "    # Your beautiful code here \n",
    "    # directly simulate the experiments with binomial method\n",
    "    return"
   ]
  },
  {
   "cell_type": "markdown",
   "metadata": {},
   "source": [
    "To see the effectiveness of using NumPy, let's run both implementations of the simulation, with and without NumPy, and compare their speeds."
   ]
  },
  {
   "cell_type": "code",
   "execution_count": 50,
   "metadata": {},
   "outputs": [],
   "source": [
    "# number of experiments to run: N\n",
    "N = 100000\n",
    "exact_solution = 0.13562651204"
   ]
  },
  {
   "cell_type": "code",
   "execution_count": 51,
   "metadata": {},
   "outputs": [
    {
     "name": "stdout",
     "output_type": "stream",
     "text": [
      "Estimate of P(A): 0.13523\n",
      "Actual value of P(A): 0.13562651204\n"
     ]
    }
   ],
   "source": [
    "start = time.perf_counter()\n",
    "print(\"Estimate of P(A):\", monte_carlo_coin(N))\n",
    "print (\"Actual value of P(A):\", exact_solution)\n",
    "end = time.perf_counter()\n",
    "total1 = end - start"
   ]
  },
  {
   "cell_type": "code",
   "execution_count": 52,
   "metadata": {},
   "outputs": [
    {
     "name": "stdout",
     "output_type": "stream",
     "text": [
      "Estimate of P(A): None\n",
      "Actual value of P(A): 0.13562651204\n"
     ]
    }
   ],
   "source": [
    "start = time.perf_counter()\n",
    "print(\"Estimate of P(A):\", monte_carlo_coin_numpy(N))\n",
    "print (\"Actual value of P(A):\", exact_solution)\n",
    "end = time.perf_counter()\n",
    "total2 = end - start"
   ]
  },
  {
   "cell_type": "code",
   "execution_count": 53,
   "metadata": {},
   "outputs": [
    {
     "name": "stdout",
     "output_type": "stream",
     "text": [
      "w/o NumPy:\t 2.275252 s\n",
      "w/ NumPy:\t 0.000780 s\n",
      "Total Speedup: 2915.494233739456x\n"
     ]
    }
   ],
   "source": [
    "print(\"w/o NumPy:\\t %f s\\nw/ NumPy:\\t %f s\" %(total1, total2))\n",
    "print(\"Total Speedup: \" + str(total1 / total2) + \"x\")"
   ]
  },
  {
   "cell_type": "markdown",
   "metadata": {},
   "source": [
    "**As we can see, the result is close to the true value derived from the Binomail Distribution. What about using the Central Limit Theorem directly? How can we apply it to this setting, and is the result similair?**"
   ]
  }
 ],
 "metadata": {
  "anaconda-cloud": {},
  "interpreter": {
   "hash": "3f39c3d14f20cea3e95981331c42f80bd8f32acfd46db0b9352a5c43cfbcb6b3"
  },
  "kernelspec": {
   "display_name": "Python 3.8.5 64-bit ('lab1': conda)",
   "language": "python",
   "name": "python3"
  },
  "language_info": {
   "codemirror_mode": {
    "name": "ipython",
    "version": 3
   },
   "file_extension": ".py",
   "mimetype": "text/x-python",
   "name": "python",
   "nbconvert_exporter": "python",
   "pygments_lexer": "ipython3",
   "version": "3.9.7"
  },
  "metadata": {
   "interpreter": {
    "hash": "99b0a6fbee6b6a60e4ae2c80be31fdd135549955318ec000f75363e0a806e836"
   }
  }
 },
 "nbformat": 4,
 "nbformat_minor": 4
}
