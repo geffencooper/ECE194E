{
 "cells": [
  {
   "cell_type": "markdown",
   "metadata": {},
   "source": [
    "# Lab 2: Logistic Regression & Linear Regression\n",
    "\n",
    "This lab will teach you how to build both a logistic regression and linear regression framework that you saw in class. Although these common algorithms can be utilized very quickly using pre-built functions provided by packages such as **scipy** and **pandas**, here we abstract the task by focusing on the algorithms used in these frameworks. \n",
    "\n",
    "To accomplish this, all the data has already been processed and provided to you so that the whole task can be done only using **numpy**. The only package that you need which was not used in the previous lab is **pickle**. Most python installations will come with pickle, so there is no need to create a new environment for this lab. \n",
    "\n",
    "\n",
    "\n"
   ]
  },
  {
   "cell_type": "markdown",
   "metadata": {},
   "source": [
    "## Lab Overview\n",
    "### I. Data Processing\n",
    "\n",
    "### II. Logistic Regression (2 classes of MNIST digits)\n",
    "- Sigmoid\n",
    "- Negative Log Likelihood\n",
    "- Using Gradient Descent to solve Logistic Regression\n",
    "\n",
    "### III. Linear Regression (USA housing data)\n",
    "- Mean Squared Error\n",
    "- Using Gradient Descent to solve Linear Regression\n",
    "- Closed form solution of Linear Regression\n",
    "\n",
    "### You are responsible for finishing the functions provided to you in cells:\n",
    "- **Cell 11**: compute_loss()\n",
    "- **Cell 14**: GD()\n",
    "- **Cell 20**: compute_loss()\n",
    "- **Cell 22**: GD()"
   ]
  },
  {
   "cell_type": "code",
   "execution_count": 191,
   "metadata": {},
   "outputs": [],
   "source": [
    "import pickle\n",
    "import numpy as np\n",
    "import os"
   ]
  },
  {
   "cell_type": "markdown",
   "metadata": {},
   "source": [
    "### I. Data Processing\n",
    "\n",
    "There are many ways to read and write data in python. One of the easiest (although not always efficient)\n",
    "ways to do this is to use [**pickle**](https://docs.python.org/3/library/pickle.html). I have already provided you with data that was pickled into a file (extension .p). Since the file should be located in the same location relative to this .ipynb jupyter lab, we can access it procedurally by first finding our current working directory. "
   ]
  },
  {
   "cell_type": "code",
   "execution_count": 192,
   "metadata": {},
   "outputs": [
    {
     "name": "stdout",
     "output_type": "stream",
     "text": [
      "c:\\Users\\GeffenPC\\Documents\\ECE194E\\ECE194E\\lab2\n"
     ]
    }
   ],
   "source": [
    "cwd = os.getcwd()\n",
    "# display your current working directory\n",
    "print(cwd)\n",
    "# define the relative paths of the files we want\n",
    "mnist_path = '/data/mnist.p'\n",
    "housing_path = '/data/housing.p'"
   ]
  },
  {
   "cell_type": "markdown",
   "metadata": {},
   "source": [
    "For your convenience, the data needed for this lab has been procesed into a [python dictionary](https://docs.python.org/3/tutorial/datastructures.html), where each value is a numpy array.  \n",
    "\n",
    "You can think of **dictionaries** as hash tables, or hash mappings, where each element (value) in the dictionary has a unique hash (key) associated with it. By nature, they are mutable data types (same as lists). In python, dictionary keys can be almost anything, or more specifically they have to be immutable objects (sets, integers, strings, even custom objects...) They are inducive to readable and efficient code due to the provided functionality of python and the versatility of hash maps respectively. Although they are not always the best data structure to use, some things are done much faster with dictinoaries. For example:\n",
    "\n",
    "Say I am recording some user data where my job is to keep track of the total score for every user. I have some list of user entires, where I have the username and the score for each user as an input. At any given point a new user can join by submitting their score. How would I efficiently keep track of all their scores given that I do not know the full set \n",
    "of users before hand?\n",
    "\n",
    " Dictionaries are perfect for this. \n",
    "\n"
   ]
  },
  {
   "cell_type": "code",
   "execution_count": 193,
   "metadata": {},
   "outputs": [
    {
     "name": "stdout",
     "output_type": "stream",
     "text": [
      "{'kyle': 6, 'neeli': 3, 'jen': 2, 'kyvaune': 3}\n",
      "{'kyle': 6, 'neeli': 3, 'jen': 2, 'kyvaune': 3}\n"
     ]
    }
   ],
   "source": [
    "# example data\n",
    "d = {}\n",
    "user_entries = [['kyle',5],['neeli',3],['jen',2],['kyvaune',3],['kyle',1]]\n",
    "# If else loop checking keys specifically\n",
    "for entry in user_entries:\n",
    "    if entry[0] in d.keys():\n",
    "        d[entry[0]] += entry[1]\n",
    "    else:\n",
    "        d[entry[0]] = entry[1]\n",
    "print(d)\n",
    "\n",
    "# Or using a try/except block\n",
    "d = {}\n",
    "user_entries = [['kyle',5],['neeli',3],['jen',2],['kyvaune',3],['kyle',1]]\n",
    "\n",
    "for entry in user_entries:\n",
    "    try:\n",
    "        d[entry[0]] += entry[1]\n",
    "    except:\n",
    "        d[entry[0]] = entry[1]\n",
    "print(d)"
   ]
  },
  {
   "cell_type": "markdown",
   "metadata": {},
   "source": [
    "Below we load in the data using pickle's load function. Note 'rb' is used to declare that we are 'reading' the file. "
   ]
  },
  {
   "cell_type": "code",
   "execution_count": 194,
   "metadata": {},
   "outputs": [
    {
     "name": "stdout",
     "output_type": "stream",
     "text": [
      "dict_keys(['x_test', 'y_test', 'x_train', 'y_train'])\n",
      "x_test (1967, 28, 28)\n",
      "y_test (1967,)\n",
      "x_train (11867, 28, 28)\n",
      "y_train (11867,)\n"
     ]
    }
   ],
   "source": [
    "data = pickle.load(open(cwd+mnist_path,'rb'))\n",
    "# data is a dictionary\n",
    "print(data.keys())\n",
    "for key in data.keys():\n",
    "    print(key, data[key].shape)"
   ]
  },
  {
   "cell_type": "markdown",
   "metadata": {},
   "source": [
    "[MNIST](http://yann.lecun.com/exdb/mnist/) is a well known dataset of handwritten digits containing 60,000 training images and 10,000 testing images. The dataset comes labeled, with a total of 10 classes (one for each digit.) For our task, I have preprocessed the data by taking all examples corresponding to the digits 6 and 9. My intuition is that these two digits should be easy to distinguish between..., can you guess why?\n",
    "\n",
    "The images in MNIST are 28 by 28 pixels. Hence the x_test and x_train datasets are numpy arrays of dimension (N, 28, 28) where N is the number of samples. Note how the testing set is smaller than the training set, this is common practice. \n",
    "\n",
    "The labels in MNIST are integers corresponding to the digits. Since we are working with binary logistic regression, we want our labels (or targets), to be zero or one. Hence I have re-labeled the datset for you so that **six corresponds to a label of zero and nine corresponds to a label of one.**\n",
    "\n",
    "x_test - Dataset of MNIST digit images (6 and 9) to be used for testing.\n",
    "\n",
    "y_test - Dataset of MNIST digit labels (0 and 1) to be used for testing.\n",
    "\n",
    "x_train - Dataset of MNIST digit labels (6 and 9) to be used for training.\n",
    "\n",
    "y_train - Dataset of MNIST digit labels (0 and 1) to be used for training.\n",
    "\n"
   ]
  },
  {
   "cell_type": "markdown",
   "metadata": {},
   "source": [
    "Using [rcParams](https://matplotlib.org/stable/tutorials/introductory/customizing.html)\n",
    " provided by matplotlib makes it easier to control your plots. \n",
    "\n"
   ]
  },
  {
   "cell_type": "code",
   "execution_count": 195,
   "metadata": {},
   "outputs": [],
   "source": [
    "import matplotlib.pyplot as plt\n",
    "from matplotlib import rc\n",
    "import matplotlib as mpl\n",
    "# colors used\n",
    "ORANGE = '#FF9132'\n",
    "TEAL = '#0598B0'\n",
    "GREEN = '#008F00'\n",
    "PURPLE = '#8A2BE2'\n",
    "GRAY = '#969696'\n",
    "FIG_WIDTH = 4\n",
    "FIG_HEIGHT = 3\n",
    "\n",
    "plt.rcParams.update({\n",
    "    \"text.usetex\": False,\n",
    "    \"font.family\": \"DejaVu Sans\",\n",
    "    \"font.serif\": [\"Palatino\"],\n",
    "    \"font.size\": 12,\n",
    "    \"axes.titlesize\": 15,\n",
    "    \"axes.spines.right\": False,\n",
    "    \"axes.spines.top\": False,\n",
    "    \"lines.linewidth\": 2\n",
    "})"
   ]
  },
  {
   "cell_type": "markdown",
   "metadata": {},
   "source": [
    "We can create a function that will display our MNIST digits for us"
   ]
  },
  {
   "cell_type": "code",
   "execution_count": 196,
   "metadata": {},
   "outputs": [],
   "source": [
    "def imshow_mnist(img, labels):\n",
    "    # -1 is used to imply a dimension \n",
    "    img = img.reshape(-1,28)\n",
    "    plt.imshow(img, cmap='gray')\n",
    "    ticks = np.arange(14,img.shape[0],28)\n",
    "    # plt.yticks(ticks=ticks ,labels=labels)\n",
    "    plt.yticks(ticks ,labels)\n",
    "    plt.xticks([])\n",
    "    plt.show()"
   ]
  },
  {
   "cell_type": "markdown",
   "metadata": {},
   "source": [
    "[Lambda expressions](https://docs.python.org/3/tutorial/controlflow.html) can be useful in python when we want to define small expressions. "
   ]
  },
  {
   "cell_type": "code",
   "execution_count": 197,
   "metadata": {},
   "outputs": [
    {
     "name": "stdout",
     "output_type": "stream",
     "text": [
      "[6 9 9]\n"
     ]
    }
   ],
   "source": [
    "get_label = lambda x : 6 + 3*x\n",
    "print(get_label(np.array([0,1,1])))"
   ]
  },
  {
   "cell_type": "code",
   "execution_count": 198,
   "metadata": {},
   "outputs": [
    {
     "data": {
      "image/png": "[encoded data removed]",
      "text/plain": [
       "<Figure size 432x288 with 1 Axes>"
      ]
     },
     "metadata": {
      "needs_background": "light"
     },
     "output_type": "display_data"
    }
   ],
   "source": [
    "imshow_mnist(data['x_train'][0:4],get_label(data['y_train'][0:4]))"
   ]
  },
  {
   "cell_type": "markdown",
   "metadata": {},
   "source": [
    "### II. Logistic Regression\n",
    "\n",
    "Logistic Regression is a classification algorithm used to differentiate data into discrete classes. The simplest form of this algorithm is the binary setting, where we have only two classes, $0$ and $1$. \n",
    "\n",
    "Given a dataset $\\mathcal{X}=\\{x_1,x_2,\\ldots,x_N\\}$ of $d$-dimensional vectors $x$, we have a corresponding set of labels $\\mathcal{Y}=\\{y_1,y_2,\\ldots,y_N\\}$ where  $y_i\\in\\{0,1\\}$. Our job is to build a classifier $h_{\\theta}$ that can calculate the probability a given $x$  belongs to class $1$, sometimes thought of as \"success\". We can think of this probability as a score, where our classifier outputs an estimate $0\\leq h_{\\theta}(x)\\leq1$. So what is $\\theta$ and what kind of function is our classifier $h_{\\theta}$?\n",
    "\n",
    "$$h_{\\theta}=\\sigma(\\theta^\\intercal x).$$\n",
    "\n",
    "We can see that $\\theta$ is a $d$-dimensional vector that maps our input vector $x$ to a real number. This is done in linear regression to map our data to a continous value, but since we want a probability of belonging to a given class we can not stop here. This is where the sigmoid function comes in, we use it to map this value between zero and one. \n",
    "$$\\sigma(x)=\\frac{1}{1+e^{-x}}$$\n",
    "\n",
    "Why would such a function be used here, let's take a look at it. "
   ]
  },
  {
   "cell_type": "code",
   "execution_count": 199,
   "metadata": {},
   "outputs": [],
   "source": [
    "def sigmoid(x):\n",
    "    return 1 / (1 + np.exp(-x))"
   ]
  },
  {
   "cell_type": "markdown",
   "metadata": {},
   "source": [
    "Play around with the x_min, x_max values below and see what it looks like.\n",
    "\n",
    "\n",
    "We can see that it is quite sensative to the range, with its behaviour going from a step function to a line. "
   ]
  },
  {
   "cell_type": "code",
   "execution_count": 200,
   "metadata": {},
   "outputs": [
    {
     "data": {
      "image/png": "[encoded data removed]",
      "text/plain": [
       "<Figure size 288x216 with 1 Axes>"
      ]
     },
     "metadata": {
      "needs_background": "light"
     },
     "output_type": "display_data"
    }
   ],
   "source": [
    "x_min, x_max = -10, 10\n",
    "# x_min, x_max = -1,1\n",
    "# x_min, x_max = -1000,1000\n",
    "\n",
    "x = np.arange(x_min,x_max,0.01)\n",
    "\n",
    "fig, axs = plt.subplots(1,1,figsize=(FIG_WIDTH,FIG_HEIGHT))\n",
    "axs.plot(x,sigmoid(x),color=PURPLE)\n",
    "plt.title('Sigmoid(x)')\n",
    "axs.set_xlabel('x')\n",
    "axs.set_xlim(x_min,x_max)\n",
    "axs.set_ylim(0,1)\n",
    "axs.set_yticks([0,0.5,1])\n",
    "axs.grid()\n",
    "plt.show()"
   ]
  },
  {
   "cell_type": "markdown",
   "metadata": {},
   "source": [
    "The sigmoid function shown above outputs a probability value between $0$ and $1$ given a real value as an input. In the scope of binary logistic regression, our input is some data sample $x\\in\\mathcal{X}$, which has a corresponding true label $y$. We can think of the overall classifier as such:\n",
    "$$\n",
    "\\begin{align} \n",
    "h_{\\theta}(x) &= P(y=1|x,\\theta),\\\\\n",
    "1-h_{\\theta}(x) &= P(y=0|x,\\theta),\\\\\n",
    "\\end{align}\n",
    "$$\n",
    "where we predict that our data sample $x$ is in class $y=1$ if $h_{\\theta}(x)\\geq 0.5$.\n",
    "\n",
    "How would we train such a classifier, or better yet, how do we choose $\\theta$ so that our classifier is as best as it can be? If we knew how $x$ was distributed based on the label, we can solve this problem exactly using Baye's rule and what we  have learned about the Maximum Likelihood Estimate. But in this case, we are not given any information on how $x$ is distributed, and hence must learn the right $\\theta$ some other way. To do this, we must first build a metric that desides how good a given choice of $\\theta$ is at classifying our data. A general metric is shown below:\n",
    "\n",
    "$$\n",
    "J(\\theta) = \\frac{1}{N}\\sum_{i=1}^{N}cost(h_{\\theta}(x_i),y_i)\n",
    "$$\n",
    "\n",
    "So given a datset $\\mathcal{X}$, we can sum over the individual data points $x_i$, checking how close our predicted label $h_{\\theta}(x_i)$ is to the true target $y_i$ for each data point. You can see that this depends on not only the chosen value of $\\theta$, but also the dataset $\\mathcal{X}$. What should the cost be in this expression? Since we are working with probability values we use the log likelihood loss function, where:\n",
    "$$\n",
    "cost(h_{\\theta}(x),y)= \\begin{cases} -log(h_{\\theta}(x)) \\ &\\text{if} \\ y=1 \\\\ -log(1-h_{\\theta}(x)) \\ &\\text{if} \\ y=0  \\end{cases}\n",
    "$$\n",
    "\n",
    "\n",
    "The intuition here is that the log function discounts greatly if we are far away from the true label, and less so when we are close. But this is not so convenient for us, as we do not want to deal with this conditional switching in our overall loss function $J(\\theta)$. Luckily, a simpler cost function can be defined, that still has the same value as the expression above:\n",
    "$$\n",
    "cost(h_{\\theta}(x),y)= -y log(h_{\\theta}(x)) - (1-y)log(1-h_{\\theta}(x))\n",
    "$$\n",
    "\n",
    "Your first task is to construct the defined loss function, $J(\\theta)$, in the cell below. Remember that $J$ acts on a given dataset $\\mathcal{X}$. Sometimes it is easier to think of our dataset as an $N$ by $d$ matrix, since this is how we work with it in python/numpy. \n",
    "\n",
    "$$\n",
    "X=\n",
    "\\begin{bmatrix}\n",
    "x_0\\\\\n",
    "x_1\\\\\n",
    "\\vdots\\\\\n",
    "x_N\n",
    "\\end{bmatrix}\n",
    "$$\n",
    "\n",
    "Remember that $N$ is the size of the dataset, and $d$ is the dimension of each data sample $x$. Since MNIST is a dataset of images, we want to flatten the image vectors before passing them along to our loss function. "
   ]
  },
  {
   "cell_type": "code",
   "execution_count": 201,
   "metadata": {},
   "outputs": [],
   "source": [
    "def compute_loss(x, y, theta):\n",
    "    '''\n",
    "    Computes the Negative Log-Likelihood Loss\n",
    "    Inputs:\n",
    "        x     - np.array of MNIST digits size (N,28,28) or (28,28)\n",
    "        y     - np.array of labels 0 for 'six' and 1 for 'nine'\n",
    "        theta - np.array of the parameter vector we want to learn\n",
    "        \n",
    "    HINT: The computer does not like log(0)\n",
    "    '''\n",
    "    \n",
    "    # reshape the dataset to be (N,d) where N = number of samples, d = 28*28\n",
    "    x = x.reshape(-1,28*28)\n",
    "    N = len(x)\n",
    "\n",
    "    # define some epsilon value to avoid log(0), ideally sigmoid should never\n",
    "    #  return 0 exactly but we have finite precision\n",
    "    eps = np.finfo(float).eps\n",
    "\n",
    "    # # model output for every sample --> (N,1)\n",
    "    h_theta = sigmoid(np.dot(x,theta))\n",
    "\n",
    "    # total cost over all samples, y --> (N,1) do inner product for multiplication to get scalar loss\n",
    "    cost = -np.dot(y,np.log(h_theta+eps)) - np.dot((1-y),np.log((1-h_theta)+eps))\n",
    "    \n",
    "    # average over all samples\n",
    "    return cost/N"
   ]
  },
  {
   "cell_type": "markdown",
   "metadata": {},
   "source": [
    "After building the above function, lets check that it works both on individual data samples from our MNIST dataset, and for subsets of the dataset. "
   ]
  },
  {
   "cell_type": "code",
   "execution_count": 202,
   "metadata": {},
   "outputs": [
    {
     "name": "stdout",
     "output_type": "stream",
     "text": [
      "[1.23725587e-05]\n"
     ]
    }
   ],
   "source": [
    "rng = np.random.default_rng(seed=123)\n",
    "theta = rng.random(28*28)\n",
    "x = data['x_train'][0].flatten()\n",
    "y = data['y_train'][0]\n",
    "print(compute_loss(x,y,theta))"
   ]
  },
  {
   "cell_type": "code",
   "execution_count": 203,
   "metadata": {},
   "outputs": [
    {
     "name": "stdout",
     "output_type": "stream",
     "text": [
      "16.186200900463472\n"
     ]
    }
   ],
   "source": [
    "x = data['x_train']\n",
    "y = data['y_train']\n",
    "print(compute_loss(x,y,theta))"
   ]
  },
  {
   "cell_type": "markdown",
   "metadata": {},
   "source": [
    "Given our fancy loss function $J(\\theta)$, how do we now use it to choose $\\theta^*$, the best $\\theta$. We want a $\\theta^*$ that minimizes our loss function when evaluated over the entire dataset, which in our case is the training set provided. \n",
    "\n",
    "$$\n",
    "\\theta^* = \\arg\\min_{\\theta} J(\\theta)\n",
    "$$\n",
    "\n",
    "Okay so lets just use what we know from calculus, we take the derivative of $J$ with respsect to $\\theta$, set that to zero and then... oh wait. If you go about this route, you will see that unless we had a closed form differentiable expression for $P(y|x)$, we can not solve the problem this way. Instead we rely on a famous numerical technique known as Gradient Descent (GD). \n",
    "\n",
    "GD assumes the given function is convex (you can think of that as meaning it only has one global minimum), and goes about finding the minimum value of the function. Essentially you can think of it as taking steps in the direction of the negative derivative (downhill), until it reaches the bottom of our function. So at every iteration of GD, we can update our current estimate of the paramater $\\theta$, by taking a step in the direction of the negative derivate (gradient) of $J(\\theta)$:\n",
    "\n",
    "$$\n",
    "\\theta : \\theta -\\alpha \\frac{\\delta}{\\delta\\theta}\\Big[J(\\theta)\\Big],\n",
    "$$\n",
    "\n",
    "where $\\alpha$ is the size of the steps we take. Intuitively, GD asks \"which elements of $\\theta$ can I tune so that our loss evaluated over the entire dataset decreases?\". A larger gradient in those elements of $\\theta$ corresponds to the loss being more sensetive in those dimensions. As we continue to iterate and update $\\theta$ in this fashion, we are gauarnteed to reach the global minimum given that our function $J$ is convex. Even though our function may be highly non-convex, this approach is computationally efficient, and hence is used widely even in more complex settings such as Neural Networks, where there are no such gaurantees. \n",
    "\n",
    "For logistic regression, the gradient of $J$ is computed for you and shown below. For linear regression in the next part, it will be your job. \n",
    "\n",
    "$$\n",
    "\\begin{align}\n",
    "\\frac{\\delta J}{\\delta \\theta} &= \\frac{\\delta}{\\delta \\theta}\\Big(\\frac{1}{N}\\sum_{i=1}^{N}cost(h_{\\theta}(x_i),y_i)\\Big),\\\\\n",
    "&= \\frac{1}{N}\\sum_{i=1}^{N}\\frac{\\delta}{\\delta \\theta}cost(h_{\\theta}(x_i),y_i),\\\\\n",
    "\\end{align}\n",
    "$$\n",
    "\n",
    "where\n",
    "\n",
    "$$\n",
    "\\begin{align}\n",
    "\\frac{\\delta \\ cost(h_{\\theta}(x_i),y_i)}{\\delta \\theta} &= \\frac{\\delta}{\\delta \\theta}\\Big(-y log(h_{\\theta}(x)) - (1-y)log(1-h_{\\theta}(x))\\Big).\\\\\n",
    "\\end{align}\n",
    "$$\n",
    "\n",
    "Given that $\\frac{\\delta}{\\delta x}\\sigma(x) = \\sigma(x)(1-\\sigma(x))$ one can show:\n",
    "\n",
    "$$\n",
    "\\begin{align}\n",
    "\\frac{\\delta J}{\\delta \\theta[j]} &= \\frac{1}{N}\\sum_{i=1}^{N}\\big((h_{\\theta}(x_i)-y_i)x_i[j]\\big)\n",
    "\\end{align}\n",
    "$$\n",
    "\n",
    "Note the indexing over the elements of $\\theta$ which is needed when computing the gradient vector. The $j$ here denotes the dimension of $\\theta$ at which we are evaluating this partial derivative, and hence we use the $j$'th element of datasamples $x_i$ to weight our derivative. \n",
    "\n",
    "Your task is to implement a Graident Descent algorithm that utilizes this gradient to make updates to a given $\\theta$ for some pre defined number of iterations. Most of the code is provided to you, so your task is to finsh the given function."
   ]
  },
  {
   "cell_type": "code",
   "execution_count": 204,
   "metadata": {},
   "outputs": [],
   "source": [
    "def GD(x, y, theta, lr, num_iters):\n",
    "    '''\n",
    "    Computes gradient descent to minimize the NLL\n",
    "    Inputs:\n",
    "        x         - np.array of MNIST images\n",
    "        y         - np.array representing the true labels\n",
    "        theta     - np.array of the parameter vector we want to learn (initial guess)\n",
    "        lr        - learning rate or step size \n",
    "        num_iters - number of steps we take\n",
    "    '''\n",
    "    # we will want x to be in the right format\n",
    "    x = x.reshape(-1,28*28)\n",
    "    N = len(x)\n",
    "    # we may also want to store the computed loss as we iterate\n",
    "    loss = np.zeros(num_iters)\n",
    "\n",
    "    for i in range(num_iters):\n",
    "        # compute the loss for this iteration ()total loss so average it)\n",
    "        loss[i] = compute_loss(x,y,theta)\n",
    "\n",
    "        # calculate the output (used by gradient)\n",
    "        h_theta = sigmoid(np.dot(x,theta))\n",
    "\n",
    "        # calculate the gradient (average over all samples)\n",
    "        dj_dtheta = (1/N)*np.dot((h_theta-y),x)\n",
    "\n",
    "        # update the parameters\n",
    "        theta = theta - lr*dj_dtheta\n",
    "\n",
    "    return loss, theta"
   ]
  },
  {
   "cell_type": "markdown",
   "metadata": {},
   "source": [
    "Given our learned value of $\\theta^*$, we want to make some predictions on the unseen data in our test dataset. This is commonly used as a metric for classification problems, since testing on the same dataset you train on can give biased results. "
   ]
  },
  {
   "cell_type": "code",
   "execution_count": 205,
   "metadata": {},
   "outputs": [],
   "source": [
    "def predict(x, theta):\n",
    "    return np.round(sigmoid(np.dot(x.reshape(-1,28*28),theta)))"
   ]
  },
  {
   "cell_type": "markdown",
   "metadata": {},
   "source": [
    "Here we can test your gradient descent implementation. Is your loss improving (decreasing) as you iterate? Note the chosen value for learning rate and number of iteration can be changed, although it should work as is. "
   ]
  },
  {
   "cell_type": "code",
   "execution_count": 206,
   "metadata": {},
   "outputs": [
    {
     "name": "stdout",
     "output_type": "stream",
     "text": [
      "Initial Cost is: 14.889\n"
     ]
    },
    {
     "data": {
      "image/png": "[encoded data removed]",
      "text/plain": [
       "<Figure size 288x216 with 1 Axes>"
      ]
     },
     "metadata": {
      "needs_background": "light"
     },
     "output_type": "display_data"
    }
   ],
   "source": [
    "x = data['x_train']\n",
    "y = data['y_train']\n",
    "\n",
    "num_iters = 100\n",
    "lr = 0.1\n",
    "theta = rng.random(28*28)\n",
    "print(\"Initial Cost is: %.3f\"%compute_loss(x, y, theta))\n",
    "\n",
    "loss, theta_star = GD(x, y, theta, lr, num_iters)\n",
    "\n",
    "fig, axs = plt.subplots(1,1,figsize=(FIG_WIDTH,FIG_HEIGHT))\n",
    "axs.plot(range(len(loss)), loss, 'ORANGE')\n",
    "plt.title(\"$J(\\\\theta)$\")\n",
    "plt.xlabel(\"Number of Iterations\")\n",
    "plt.ylabel(\"Loss\")\n",
    "plt.show()\n",
    "\n"
   ]
  },
  {
   "cell_type": "markdown",
   "metadata": {},
   "source": [
    "If the above plot of our loss fucntion looks like it has converged, we can see how our accuracy is on the test dataset. The solution should result in an accuracy of above 95%. We can also look at the some of the misclassified images to get a sense of what caused the classification errors. "
   ]
  },
  {
   "cell_type": "code",
   "execution_count": 207,
   "metadata": {},
   "outputs": [
    {
     "name": "stdout",
     "output_type": "stream",
     "text": [
      "Accuracy on test set: 96.950\n"
     ]
    },
    {
     "data": {
      "image/png": "[encoded data removed]",
      "text/plain": [
       "<Figure size 432x288 with 1 Axes>"
      ]
     },
     "metadata": {
      "needs_background": "light"
     },
     "output_type": "display_data"
    }
   ],
   "source": [
    "x = data['x_test']\n",
    "y = data['y_test']\n",
    "\n",
    "y_predict = predict(x, theta_star)\n",
    "print(\"Accuracy on test set: %.3f\"%(np.mean(y_predict==y)*100))\n",
    "imshow_mnist(x[y_predict!=y][0:10],get_label(y[y_predict!=y][0:10]))"
   ]
  },
  {
   "cell_type": "markdown",
   "metadata": {},
   "source": [
    "### III. Linear Regression (USA housing data)\n",
    "\n",
    "Now that we have looked at logistic regression, I will let you implement a multi-class linear regression framework. A lot of the theory is the same here, but the main difference is in the cost function used to evaluate how close the predicted values are to the true ones. Remember that in linear regression, we are trying to estimate a continous value, and hence we do not need to use a sigmoid in order to map our values to probabilities. Instead, we rely on the Mean Squared Error as our metric of cost, and sum this error over the whole dataset given a $\\theta$.\n",
    "\n",
    "$$\n",
    "J(\\theta) = \\frac{1}{2N}\\sum_{i=1}^{N}(\\theta^\\intercal x_i -y_i)^2,\n",
    "$$\n",
    "\n",
    "where the inner summation is the Mean Squared Error between the true value $y_i$, and our prediction $\\theta^\\intercal x_i$. \n",
    "\n",
    "Just like in the previous task, your job is to construct a linear regression framework using gradient descent by computing the gradient of the above loss function. The dataset we will work with is the USA housing dataset. It has been converted for you in the same manner, split into training and testing datasets of labels and features.  \n",
    "\n",
    "Each data sample $x$ is a row of the full data set $X$, where the 'features' are the columns of $X$. In this dataset, there are five features:\n",
    "\n",
    " 0     Avg. Area Income              \n",
    "\n",
    " 1     Avg. Area House Age           \n",
    "\n",
    " 2     Avg. Area Number of Rooms     \n",
    "\n",
    " 3     Avg. Area Number of Bedrooms  \n",
    "\n",
    " 4     Area Population \n",
    "\n",
    "The provided labels give the corresponding house's price for each data sample $x$. Your job is to create a linear function $\\theta^\\intercal x$, that can estimate house prices. This is the standard linear regression setting.  \n",
    "\n"
   ]
  },
  {
   "cell_type": "code",
   "execution_count": 208,
   "metadata": {},
   "outputs": [
    {
     "name": "stdout",
     "output_type": "stream",
     "text": [
      "dict_keys(['x_train', 'y_train', 'x_test', 'y_test'])\n",
      "x_train (4500, 5)\n",
      "y_train (4500,)\n",
      "x_test (500, 5)\n",
      "y_test (500,)\n"
     ]
    }
   ],
   "source": [
    "data = pickle.load(open(cwd+housing_path,'rb'))\n",
    "print(data.keys())\n",
    "for key in data.keys():\n",
    "    print(key, data[key].shape)"
   ]
  },
  {
   "cell_type": "markdown",
   "metadata": {},
   "source": [
    "The features vary greatly in their distribution, since they are not just pixel values. The number of bedrooms is a good dictator of home price, but its magnitude is small compared to the average income in the neighberhood. Because of this, we first normalize the individual features, so that they have the same weight. Also, since we want to account for a bias term (think of zero-intercept in 2-dimensions,) we can do this directly by injecting $1$ as the first feature of every data point $x$."
   ]
  },
  {
   "cell_type": "code",
   "execution_count": 209,
   "metadata": {},
   "outputs": [],
   "source": [
    "def normalize(x):\n",
    "    '''\n",
    "    Normalizes the input data and add ones column for bias\n",
    "    '''\n",
    "    new_x = np.ones((len(x),6))\n",
    "    for col in range(x.shape[1]):\n",
    "        new_x[:,col+1] = (x[:,col]-x[:,col].mean())/x[:,col].std()\n",
    "\n",
    "    return new_x"
   ]
  },
  {
   "cell_type": "markdown",
   "metadata": {},
   "source": [
    "Your task is as before, finish the function below. "
   ]
  },
  {
   "cell_type": "code",
   "execution_count": 210,
   "metadata": {},
   "outputs": [],
   "source": [
    "def compute_loss(x, y, theta):\n",
    "    '''\n",
    "    Computes the MSE or L2 loss\n",
    "    Inputs:\n",
    "        x     - np.array of arbitrary length and width of 6\n",
    "        y     - np.array representing true housing price\n",
    "        theta - np.array of the parameter vector we want to learn\n",
    "    '''\n",
    "    \n",
    "    # get the dataset length\n",
    "    N = x.shape[0]\n",
    "\n",
    "    # compute the loss over all samples\n",
    "    loss = (1/(2*N))*np.sum(np.square(np.dot(x,theta)-y))\n",
    "    \n",
    "    return loss"
   ]
  },
  {
   "cell_type": "markdown",
   "metadata": {},
   "source": [
    "Does your function work?"
   ]
  },
  {
   "cell_type": "code",
   "execution_count": 211,
   "metadata": {},
   "outputs": [
    {
     "name": "stdout",
     "output_type": "stream",
     "text": [
      "824456720792.9413\n",
      "907995.9916172215\n"
     ]
    }
   ],
   "source": [
    "x = normalize(data['x_train'])\n",
    "y = data['y_train']\n",
    "\n",
    "theta = rng.random(6)\n",
    "print(compute_loss(x,y,theta))\n",
    "\n",
    "# square root gives more intuitive value ~1,000,000\n",
    "print(np.sqrt(compute_loss(x,y,theta)))"
   ]
  },
  {
   "cell_type": "markdown",
   "metadata": {},
   "source": [
    "Now do the same as before, constructing the gradient descent algorithm for linear regression by taking steps in the direction of the negative gradient of $J(\\theta)$ with respect to theta."
   ]
  },
  {
   "cell_type": "markdown",
   "metadata": {},
   "source": [
    "### Deriving the gradient:\n",
    "$$\n",
    "J(\\theta) = \\frac{1}{2N}\\sum_{i=1}^{N}(\\theta^\\intercal x_i -y_i)^2,\n",
    "$$\n",
    "\n",
    "$$\n",
    "\\frac{\\partial J}{\\partial \\theta_j} = \\frac{\\partial}{\\partial \\theta}\\Big(\\frac{1}{2N}\\sum_{i=1}^{N}(\\theta^\\intercal x_i -y_i)^2\\Big)\n",
    "$$\n",
    "\n",
    "$$\n",
    "\\frac{\\partial J}{\\partial \\theta_j} = \\frac{1}{N}\\Big(\\sum_{i=1}^{N}(\\theta^\\intercal x_i -y_i)\\Big)x_i[j]\n",
    "$$\n",
    "\n",
    "Overall the gradient then can be expressed in vector notation:\n",
    "$$\n",
    "\\nabla J(\\theta) = \\frac{1}{N}(X\\theta-y)X\n",
    "$$"
   ]
  },
  {
   "cell_type": "code",
   "execution_count": 212,
   "metadata": {},
   "outputs": [],
   "source": [
    "def GD(x, y, theta, lr, num_iters):\n",
    "    '''\n",
    "    Computes gradient descent to minimize the MSE\n",
    "    Inputs:\n",
    "        x         - np.array of arbitrary length and width of 5\n",
    "        y         - np.array representing true housing price\n",
    "        theta     - np.array of the parameter vector we want to learn\n",
    "        lr        - learning rate or step size \n",
    "        num_iters - number of steps we take\n",
    "\n",
    "    HINT: Dont forget that we normalize(x) before passing it into this function,    \n",
    "          which adds an extra dimension to our data.\n",
    "    '''\n",
    "    # your code goes here\n",
    "    cost = np.zeros(num_iters)\n",
    "    N = len(x)\n",
    "\n",
    "    for i in range(num_iters):\n",
    "        # get the current cost\n",
    "        cost[i] = compute_loss(x,y,theta)\n",
    "\n",
    "        # find the gradient\n",
    "        grad = (1/N)*np.dot((np.dot(x,theta)-y),x)\n",
    "\n",
    "        # update the parameters\n",
    "        theta = theta -lr*grad\n",
    "    return cost, theta"
   ]
  },
  {
   "cell_type": "code",
   "execution_count": 213,
   "metadata": {},
   "outputs": [],
   "source": [
    "def predict(x, theta):\n",
    "    return np.dot(x.reshape(-1,6),theta)"
   ]
  },
  {
   "cell_type": "markdown",
   "metadata": {},
   "source": [
    "Lets see how your algorithm preforms. I have chosen arbitrary values for num_iters and learning rate, play around with them."
   ]
  },
  {
   "cell_type": "code",
   "execution_count": 214,
   "metadata": {},
   "outputs": [
    {
     "name": "stdout",
     "output_type": "stream",
     "text": [
      "Initial Cost is: 824456803768.559\n"
     ]
    },
    {
     "data": {
      "image/png": "[encoded data removed]",
      "text/plain": [
       "<Figure size 288x216 with 1 Axes>"
      ]
     },
     "metadata": {
      "needs_background": "light"
     },
     "output_type": "display_data"
    }
   ],
   "source": [
    "x = normalize(data['x_train'])\n",
    "y = data['y_train']\n",
    "\n",
    "#play around with these values\n",
    "num_iters = 100 # set this to converge to ideal loss using closed form\n",
    "lr = 0.25\n",
    "theta = rng.random(6)\n",
    "print(\"Initial Cost is: %.3f\"%compute_loss(x, y, theta))\n",
    "\n",
    "cost, theta = GD(x, y, theta, lr, num_iters)\n",
    "\n",
    "fig, axs = plt.subplots(1,1,figsize=(FIG_WIDTH,FIG_HEIGHT))\n",
    "axs.plot(range(len(cost)), cost, 'ORANGE')\n",
    "plt.title(\"$J(\\\\theta)$\")\n",
    "plt.xlabel(\"Number of Iterations\")\n",
    "plt.ylabel(\"Loss\")\n",
    "plt.show()\n",
    "\n"
   ]
  },
  {
   "cell_type": "markdown",
   "metadata": {},
   "source": [
    "Unlike logistic regression, linear regression has a closed form solution (when we set the gradient to zero) given a data matrix $X$. In 2-dimensions you may recall this closed form solution as finding the best-fit line for a dataset. The math in d-dimensions is almost identical but relies on taking the L2 norm between the predictions of the dataset $X\\theta$ (this is a column vector of dimension $N$), and all of our labels $y$ (also a column vector).\n",
    "\n",
    "$$\n",
    "\\theta^* = (X^\\intercal X)^{-1}X^\\intercal \\mathbf{y},\n",
    "$$\n",
    "where boldfaced $\\mathbf{y}$ is used to denote that we are referring to the whole dataset, and hence we need the full vector of labels. \n",
    "\n",
    "The closed form solution for $\\theta^*$ is provided below as \"true_theta\". We can compare our loss to this solution to see how close we are."
   ]
  },
  {
   "cell_type": "code",
   "execution_count": 215,
   "metadata": {},
   "outputs": [
    {
     "name": "stdout",
     "output_type": "stream",
     "text": [
      "Loss after running lin reg with gradient descent: 5086664120.750\n",
      "Loss using ideal parameters: 5086664120.749\n"
     ]
    }
   ],
   "source": [
    "temp = np.matmul(x.T,x)\n",
    "inv = np.linalg.inv(temp)\n",
    "true_theta = np.dot(np.matmul(inv,x.T),y)\n",
    "\n",
    "print(\"Loss after running lin reg with gradient descent: %.3f\"%compute_loss(x,y,theta))\n",
    "print(\"Loss using ideal parameters: %.3f\"%compute_loss(x,y,true_theta))"
   ]
  },
  {
   "cell_type": "markdown",
   "metadata": {},
   "source": [
    "If these numbers are close, we can move on to see how good our estimator is. "
   ]
  },
  {
   "cell_type": "code",
   "execution_count": 216,
   "metadata": {},
   "outputs": [
    {
     "name": "stdout",
     "output_type": "stream",
     "text": [
      "Average house price: 1214045.125\n",
      "Std. of house prices: 335494.469\n",
      "Average abs. error of our prediction: 83465.195\n"
     ]
    }
   ],
   "source": [
    "x = normalize(data['x_test'])\n",
    "y = data['y_test']\n",
    "\n",
    "y_predict = predict(x, theta)\n",
    "# find average error\n",
    "np.mean(abs(y_predict-y))\n",
    "print('Average house price: %.3f'%y.mean())\n",
    "print('Std. of house prices: %.3f'%y.std())\n",
    "print('Average abs. error of our prediction: %.3f'%np.mean(abs(y_predict-y)))"
   ]
  },
  {
   "cell_type": "markdown",
   "metadata": {},
   "source": [
    "You should see that the average absolute error over the testset is an order of magnitude smaller than the standard deviation of the testset. This means we can make accurate predictions, just by applying a very simple algorithm on our dataset. This of course can be improved on by utilizing more features, constructing different kernels for our features, and using an L-2 penalty as shown in class for ridge-regression. "
   ]
  }
 ],
 "metadata": {
  "kernelspec": {
   "display_name": "Python 3.8.5 64-bit ('lab1': conda)",
   "name": "python385jvsc74a57bd0e14277392997ec7b8d0d4e1eacc6a12462d831e78f154a1c368aae24d965e9e8"
  },
  "language_info": {
   "codemirror_mode": {
    "name": "ipython",
    "version": 3
   },
   "file_extension": ".py",
   "mimetype": "text/x-python",
   "name": "python",
   "nbconvert_exporter": "python",
   "pygments_lexer": "ipython3",
   "version": "3.8.5"
  },
  "metadata": {
   "interpreter": {
    "hash": "e14277392997ec7b8d0d4e1eacc6a12462d831e78f154a1c368aae24d965e9e8"
   }
  },
  "orig_nbformat": 2
 },
 "nbformat": 4,
 "nbformat_minor": 2
}
