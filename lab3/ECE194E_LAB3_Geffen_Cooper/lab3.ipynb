{
 "cells": [
  {
   "cell_type": "markdown",
   "metadata": {},
   "source": [
    "# Lab 3: K-Means and the EM Algorithm\n",
    "\n",
    "In this lab we will look at two famous algorithms, K-Means and Expectation-Maximization. These are both used as unsupervised-learning aglorithms for clustering, where the goal is to find hidden patterns in unlabeled data. Since the true labels, nor the number of discrete classes is usually unknown, we refer to these as unsupervised learning methods. \n",
    "\n",
    "\n",
    "\n",
    "\n"
   ]
  },
  {
   "cell_type": "markdown",
   "metadata": {},
   "source": [
    "## Lab Overview\n",
    "### I. K-means Clustering \n",
    "### II. Binary Gaussian Mixtures \n",
    "### III. EM Algorithm\n",
    "\n",
    "### You are responsible for finishing the functions provided to you in cells:\n",
    "- **Cells 14-16**: K-Means and your result\n",
    "- **Cells 22-24**: EM and your result\n"
   ]
  },
  {
   "cell_type": "markdown",
   "metadata": {},
   "source": [
    "Since this lab will require us to compute the pdf of the normal distribution, we will rely on scipy's well known packages. You will not need anything else from scipy, as the point of this lab is to test your ability to construct algorithms, rather than rely on pre-made packages to do all your work. \n",
    "\n",
    "You can simply use the lab environment we already have, and install the additional package by running the following cell. If you want a new environment, you can always rely on the lab3.yml file provided in this folder. "
   ]
  },
  {
   "cell_type": "code",
   "execution_count": 644,
   "metadata": {},
   "outputs": [
    {
     "name": "stdout",
     "output_type": "stream",
     "text": [
      "Requirement already satisfied: scipy==1.6.3 in c:\\users\\geffenpc\\anaconda3\\lib\\site-packages (1.6.3)\n",
      "Requirement already satisfied: numpy<1.23.0,>=1.16.5 in c:\\users\\geffenpc\\anaconda3\\lib\\site-packages (from scipy==1.6.3) (1.20.3)\n",
      "Note: you may need to restart the kernel to use updated packages.\n"
     ]
    }
   ],
   "source": [
    "pip install scipy==1.6.3"
   ]
  },
  {
   "cell_type": "markdown",
   "metadata": {},
   "source": [
    "Setup the needed plotting environment, and load in the dependencies. You will only need scipy.stats.norm and its method scipy.stats.norm.pdf(). This will be used in the second part of the lab dealing with EM."
   ]
  },
  {
   "cell_type": "code",
   "execution_count": 645,
   "metadata": {},
   "outputs": [],
   "source": [
    "import numpy as np \n",
    "import pickle\n",
    "import os\n",
    "from numpy.random import default_rng\n",
    "from scipy.stats import norm\n",
    "\n",
    "rng = default_rng(seed=12345)\n",
    "\n",
    "import matplotlib.pyplot as plt\n",
    "from matplotlib import rc\n",
    "import matplotlib as mpl\n",
    "# colors used \n",
    "ORANGE = '#FF9132'\n",
    "TEAL = '#0598B0'\n",
    "GREEN = '#008F00'\n",
    "PURPLE = '#8A2BE2'\n",
    "GRAY = '#969696'\n",
    "RED = '#B00805'\n",
    "FIG_WIDTH = 4\n",
    "FIG_HEIGHT = 3\n",
    "\n",
    "\n",
    "plt.rcParams.update({\n",
    "    \"text.usetex\": False,\n",
    "    \"font.family\": \"DejaVu Sans\",\n",
    "    \"font.serif\": [\"Palatino\"],\n",
    "    \"font.size\": 12,\n",
    "    \"axes.titlesize\": 15,\n",
    "    \"axes.spines.right\": False,\n",
    "    \"axes.spines.top\": False,\n",
    "    \"lines.linewidth\": 3\n",
    "})"
   ]
  },
  {
   "cell_type": "markdown",
   "metadata": {},
   "source": [
    "### I. K-Means\n",
    "\n",
    "We have all seen K-Means in class, and it looks pretty simple right? Can it really work on real datasets where the features express complex quantities? Yes, but remember, K-means is not created to be a classification algorithm, but rather a clustering algorithm. That is why it is usually used in recommendation systems, and not prediction systems. \n",
    "\n",
    "For our task, I have extracted a small subset of data from spotify, choosing **3 artists**, and selecting **200 songs from each**. The dataset that we want to cluster consists of these **600** shuffled songs, with each song having 11 features. We will try to use these features, and the K-Means algorithm to cluster the 600 songs into **3 clusters**. \n",
    "\n",
    "Since the true labels are provided, we can then check how the unsupervised learning framework did i.e., are the created clusters representitive of the artists?\n",
    "\n",
    "As always, the data has been pickled into a dictionary with three keys:\n",
    "\n",
    "**keys** - the features of the dataset\n",
    "\n",
    "**tracks** - the actual dataset, np.array of dimension 600x11\n",
    "\n",
    "**artists** - the labels, np.array of dimension 600."
   ]
  },
  {
   "cell_type": "code",
   "execution_count": 646,
   "metadata": {},
   "outputs": [
    {
     "name": "stdout",
     "output_type": "stream",
     "text": [
      "These are the features of each data sample: \n",
      "\n",
      " ['popularity' 'duration_ms' 'danceability' 'energy' 'key' 'loudness'\n",
      " 'speechiness' 'acousticness' 'liveness' 'valnce' 'tempo']\n",
      "\n",
      "This is your dataset shape:\n",
      "\n",
      " (600, 11)\n",
      "\n",
      "This is how your labels look:\n",
      "\n",
      " ['Drake' 'The Beatles' 'Drake' 'Drake' 'The Beatles' 'Drake' 'The Beatles'\n",
      " 'The Beatles' 'The Beatles' 'BTS']\n"
     ]
    }
   ],
   "source": [
    "spotify = pickle.load(open(os.getcwd()+'/data/spotify.p','rb'))\n",
    "artists = np.array(['Drake','The Beatles','BTS'])\n",
    "\n",
    "print('These are the features of each data sample: \\n\\n',spotify['keys'])\n",
    "print('\\nThis is your dataset shape:\\n\\n',spotify['tracks'].shape)\n",
    "print('\\nThis is how your labels look:\\n\\n',spotify['artists'][0:10])\n"
   ]
  },
  {
   "cell_type": "markdown",
   "metadata": {},
   "source": [
    "It would be nice to color our dataset so that each point corresponding to a certain artist will have a color associated with it. Remember, this is just for visualization, as we will not use these labels or colors in our actual algorithm."
   ]
  },
  {
   "cell_type": "code",
   "execution_count": 647,
   "metadata": {},
   "outputs": [],
   "source": [
    "colors = np.array([ORANGE,TEAL,GREEN])\n",
    "cmap = []\n",
    "for artist in spotify['artists']:\n",
    "    cmap.append(colors[np.argwhere(artist == artists).item()])"
   ]
  },
  {
   "cell_type": "markdown",
   "metadata": {},
   "source": [
    "Remember normalization? Well here it is quite important as K-means gives the same weight to each feature. Lets load our normalized data into a variable called **tracks**. \n",
    "\n",
    "The below function is not the most efficient, but this way you can see what is actually going on. Each column (features) is being normalized as we are subtracting the mean and dividing by the standard deviation."
   ]
  },
  {
   "cell_type": "code",
   "execution_count": 648,
   "metadata": {},
   "outputs": [],
   "source": [
    "def normalize(x):\n",
    "    '''\n",
    "    Normalizes the input data\n",
    "    '''\n",
    "    new_x = np.zeros_like(x)\n",
    "    for col in range(x.shape[1]):\n",
    "        new_x[:,col] = (x[:,col]-x[:,col].mean())/x[:,col].std()\n",
    "    return new_x\n",
    "\n",
    "tracks = normalize(spotify['tracks'])\n"
   ]
  },
  {
   "cell_type": "markdown",
   "metadata": {},
   "source": [
    "What are our features again? Do you think any of these features are correlated with the artist? We can check this visually. "
   ]
  },
  {
   "cell_type": "code",
   "execution_count": 649,
   "metadata": {},
   "outputs": [
    {
     "name": "stdout",
     "output_type": "stream",
     "text": [
      "0:  popularity\n",
      "1:  duration_ms\n",
      "2:  danceability\n",
      "3:  energy\n",
      "4:  key\n",
      "5:  loudness\n",
      "6:  speechiness\n",
      "7:  acousticness\n",
      "8:  liveness\n",
      "9:  valnce\n",
      "10:  tempo\n"
     ]
    }
   ],
   "source": [
    "for i in range(len(spotify['keys'])):\n",
    "    print('%d: '%i,spotify['keys'][i])\n"
   ]
  },
  {
   "cell_type": "markdown",
   "metadata": {},
   "source": [
    "Pick two different features from below by choosing their correspond number (index). The cell will then plot these features for you. It would be nice to visualize everything, but the data is high-dimensional. I chose two features that are clearly differentiating the artists, but there could be others."
   ]
  },
  {
   "cell_type": "code",
   "execution_count": 650,
   "metadata": {},
   "outputs": [
    {
     "data": {
      "image/png": "[encoded data removed]",
      "text/plain": [
       "<Figure size 432x324 with 1 Axes>"
      ]
     },
     "metadata": {
      "needs_background": "light"
     },
     "output_type": "display_data"
    }
   ],
   "source": [
    "from matplotlib.lines import Line2D\n",
    "\n",
    "# chose the axes for each feature\n",
    "x_var = 3\n",
    "y_var = 6\n",
    "\n",
    "fig, axs = plt.subplots(1,1,figsize=(FIG_WIDTH*1.5,FIG_HEIGHT*1.5))\n",
    "# we can now use the colormap we defined\n",
    "axs.scatter(tracks[:,x_var],tracks[:,y_var],c=cmap,s=75)\n",
    "legend_elements = [Line2D([0],[0],marker='o',color='w',label=artists[i],\n",
    "                          markerfacecolor=colors[i], markersize=15) for i in range (len(artists))]\n",
    "axs.legend(handles=legend_elements)\n",
    "axs.set_xlabel(spotify['keys'][x_var])\n",
    "axs.set_ylabel(spotify['keys'][y_var])\n",
    "plt.show()"
   ]
  },
  {
   "cell_type": "markdown",
   "metadata": {},
   "source": [
    "Okay so from the image we can see that Drake is clearly has less energy than the famous Korean Boy Band, and he does have a lot more to say than The Beatles. From here we can already see the clusters, but how will K-Means do?\n",
    "\n",
    "For this you will have to try and find out.\n",
    "\n"
   ]
  },
  {
   "cell_type": "markdown",
   "metadata": {},
   "source": [
    "**K-Means**\n",
    "\n",
    "Given a dataset $\\mathcal{X}=\\{x_1,x_2,\\ldots,x_N\\}$ of $d$-dimensional vectors $x$, we want to find $k$ centroids, $\\mathcal{C}=\\{c_1,c_2,\\ldots,c_k\\}$, that minimze the distorion,$\\mathcal{D}$ of our data. Where:\n",
    "\n",
    "$$\\mathcal{D}=\\sum_{i=1}^{N}\\big(x_i-c_{x_i}\\big)^2$$\n",
    "\n",
    "Above I denote $c_{x_i}$ as the centroid corresponding to data sample $x_i$.\n",
    "\n",
    "I will skip the mathematical notation as the algorithm is quite simply stated in words. There are essentially three steps.\n",
    "\n",
    "1) Initialize the Centroids Randomly\n",
    "\n",
    "\n",
    "REPEAT (2-3):\n",
    "\n",
    "2) For each point, find which centroid it is closest to and make it part of its cluster. \n",
    "\n",
    "3) Find the new cluster centers by taking the mean of the sets associated with each. \n",
    "\n",
    "A good measure for convergence in K-Means is distrotrion, which is basically the variance of each cluster. K-Means tries to minimize the distortion, which is the sum of squared distances from the data-points and their corresponding centers. It would be wise to somehow use this measure in your algorithm..."
   ]
  },
  {
   "cell_type": "code",
   "execution_count": 651,
   "metadata": {},
   "outputs": [],
   "source": [
    "def Centroid_init(X, K):\n",
    "    \"\"\"\n",
    "    Given training data X, this function initializes K different centroids\n",
    "    Inputs:\n",
    "        X - Data as np.array of dim: Nx(# features)\n",
    "        K - Number of centroids\n",
    "    \n",
    "    Outputs:\n",
    "        m - np.array of cluster centers, dimL Kx(# features)\n",
    "    \"\"\"\n",
    "    # Hint, zeros are not a good initialization, I just made it so the whole notebook will run\n",
    "    try: \n",
    "        # K centroids with dimension (#features)\n",
    "        if X.ndim > 1:\n",
    "            m = rng.random((K,X.shape[1]))\n",
    "        else:\n",
    "            m = rng.random(K)\n",
    "    except:\n",
    "        m = np.zeros(K)\n",
    "        print(\"Exception: Centroid_init\")\n",
    "    return m"
   ]
  },
  {
   "cell_type": "code",
   "execution_count": 652,
   "metadata": {},
   "outputs": [
    {
     "name": "stdout",
     "output_type": "stream",
     "text": [
      "[[0.22733602 0.31675834 0.79736546 0.67625467 0.39110955 0.33281393\n",
      "  0.59830875 0.18673419 0.67275604 0.94180287 0.24824571]\n",
      " [0.94888115 0.66723745 0.09589794 0.44183967 0.88647992 0.6974535\n",
      "  0.32647286 0.73392816 0.22013496 0.08159457 0.1598956 ]\n",
      " [0.34010018 0.46519315 0.26642103 0.8157764  0.19329439 0.12946908\n",
      "  0.09166475 0.59856801 0.8547419  0.60162124 0.93198836]]\n"
     ]
    }
   ],
   "source": [
    "m = Centroid_init(tracks,len(artists))\n",
    "print(m)"
   ]
  },
  {
   "cell_type": "code",
   "execution_count": 653,
   "metadata": {},
   "outputs": [],
   "source": [
    "def Set(X, m):\n",
    "    '''\n",
    "    Now we define a function that creates the sets of data points closest\n",
    "    to each centroid. Also it is useful to compute the distortion.\n",
    "    Inputs:\n",
    "        X - Data as np.array of dim: Nx(# features)\n",
    "        m - np.array of cluster centers, dimL Kx(# features)\n",
    "    \n",
    "    Outputs:\n",
    "        C - The sets for each cluster. There should be K sets inside C, \n",
    "            but you can play around with how you define C. I suggest using a \n",
    "            dict and storing the actual datapoints such that when you call\n",
    "            C['i'], you get an np.array() of dim: Mx(# features), where M can vary in size.\n",
    "            This is useful as np.arrays can not have varying length rows...\n",
    "            \n",
    "        D - Distortion as defined. This can just be a floating point.\n",
    "    '''\n",
    "\n",
    "    # dictionary of cluster sets, each key is a cluster k, the value is an Mx(#feature) array\n",
    "    # where M is the number of data points in this cluster\n",
    "    C = {}\n",
    "\n",
    "    # number of samples\n",
    "    N = X.shape[0]\n",
    "\n",
    "    # of features\n",
    "    if X.ndim > 1:\n",
    "        F = X.shape[1]\n",
    "    else:\n",
    "        F = 1\n",
    "\n",
    "    # of clusters\n",
    "    K = m.shape[0]\n",
    "\n",
    "    # get the distances to all cluster centers for every sample\n",
    "    distances = np.zeros((N,K))\n",
    "    for x in range(N):\n",
    "        for k in range(K):\n",
    "            if X.ndim > 1:\n",
    "                distances[x,k] = np.sqrt(np.sum(np.square(X[x,:]-m[k,:])))\n",
    "            else:\n",
    "                distances[x,k] = np.sqrt(np.sum(np.square(X[x]-m[k])))\n",
    "\n",
    "    # only keep the closest cluster idx\n",
    "    closest = np.argmin(distances,axis=1)\n",
    "\n",
    "    # assign labels to closest points\n",
    "    for k in range(K):\n",
    "        C[k] = X[closest == k]\n",
    "\n",
    "    # get min from distances to get distortion\n",
    "    distances = np.min(distances,axis=1)\n",
    "    Distortion = np.sum(np.square(distances))\n",
    "    \n",
    "    return (C, Distortion)"
   ]
  },
  {
   "cell_type": "code",
   "execution_count": 654,
   "metadata": {},
   "outputs": [
    {
     "name": "stdout",
     "output_type": "stream",
     "text": [
      "centroid 0:  (206, 11)\n",
      "centroid 1:  (229, 11)\n",
      "centroid 2:  (165, 11)\n",
      "\n",
      "Total Distortion: 7554.429\n"
     ]
    }
   ],
   "source": [
    "C, D = Set(tracks,m)\n",
    "for key in C:\n",
    "    print('centroid %d: '%key, C[key].shape)\n",
    "print('\\nTotal Distortion: %.3f'%D)"
   ]
  },
  {
   "cell_type": "code",
   "execution_count": 655,
   "metadata": {},
   "outputs": [],
   "source": [
    "def Update(X, C, m):\n",
    "    '''\n",
    "    This is step 3), where we update our cluster centers.\n",
    "    If you followed the structure from before this step should \n",
    "    be very simple as C['i'] will store the entire set of datapoints\n",
    "    associated with cluster i.\n",
    "\n",
    "    Inputs:\n",
    "        X - Data as np.array of dim: Nx(# features)\n",
    "        C - Dictionary of sets corresponding to ea cluster\n",
    "        m - np.array of cluster centers, dimL Kx(# features)\n",
    "    \n",
    "    Outputs:\n",
    "        m - np.array of NEW cluster centers, dimL Kx(# features)\n",
    "    \n",
    "    HINT: Cluster centers can be empty if initialized poorly, so be careful\n",
    "    '''\n",
    "    try: \n",
    "        # get the mean of each cluster (dim = K x num_features)\n",
    "        for k in range(m.shape[0]):\n",
    "            if X.ndim > 1:\n",
    "                m[k,:] = np.mean(C[k],axis=0)\n",
    "            else:\n",
    "                m[k] = np.mean(C[k],axis=0)\n",
    "    except:\n",
    "        m = np.zeros(m.shape[0])\n",
    "    return m[:]\n"
   ]
  },
  {
   "cell_type": "code",
   "execution_count": 656,
   "metadata": {},
   "outputs": [
    {
     "name": "stdout",
     "output_type": "stream",
     "text": [
      "[[-0.2663923  -0.20220913  0.56189196  0.24198816 -0.11957399  0.20170948\n",
      "   0.16780008 -0.33922418  0.17334492  0.53685371 -0.29491441]\n",
      " [ 0.60016576  0.48687926 -0.05765949 -0.14989054  0.3654272   0.0971275\n",
      "   0.0515768   0.01456371 -0.3616965  -0.63653296 -0.23190639]\n",
      " [-0.50037058 -0.42327436 -0.62148922 -0.09408865 -0.35788234 -0.38663243\n",
      "  -0.28107821  0.40330359  0.2855724   0.21317687  0.69005413]]\n"
     ]
    }
   ],
   "source": [
    "m = Update(tracks,C,m)\n",
    "print(m)"
   ]
  },
  {
   "cell_type": "markdown",
   "metadata": {},
   "source": [
    "You can use the backbone provided above if you want to, but the most important part is the function below. Make sure your output format is the same as I defined so that you can use the table printing function I have following this. If not feel free to edit it so it can easily display the result. "
   ]
  },
  {
   "cell_type": "code",
   "execution_count": 657,
   "metadata": {},
   "outputs": [],
   "source": [
    "def K_Means(X, K):\n",
    "    '''\n",
    "    Now put it all together. \n",
    "\n",
    "    Inputs:\n",
    "        X - Data as np.array of dim: Nx(# features)\n",
    "        K - Number of centroids\n",
    "    \n",
    "    Outputs\n",
    "        m - np.array of FINAL cluster centers, dimL Kx(# features)\n",
    "        D - The final distortion\n",
    "    '''\n",
    "    try: \n",
    "        # initialize the clusters\n",
    "        m = Centroid_init(X,K)\n",
    "\n",
    "        # assign the labels\n",
    "        C,D = Set(X,m)\n",
    "\n",
    "        # update the centers\n",
    "        m_new = Update(X,C,m.copy())\n",
    "\n",
    "        # now update the clusters and find the centroids until the centroids don't change\n",
    "        while not np.array_equal(m_new,m):\n",
    "            # set old to new\n",
    "            m = m_new.copy()\n",
    "\n",
    "            # assign the labels\n",
    "            C,D = Set(X,m)\n",
    "\n",
    "            # update the centers\n",
    "            m_new = Update(X,C,m.copy())\n",
    "\n",
    "    except:\n",
    "        m = np.zeros(K)\n",
    "    D = 0\n",
    "    print(\"DONE\")\n",
    "    return(m, D)"
   ]
  },
  {
   "cell_type": "markdown",
   "metadata": {},
   "source": [
    "Run your algorithm in the cell below and store the centroids for the next part."
   ]
  },
  {
   "cell_type": "code",
   "execution_count": 658,
   "metadata": {},
   "outputs": [
    {
     "name": "stdout",
     "output_type": "stream",
     "text": [
      "DONE\n",
      "[[ 0.62621967  0.53868874  0.54473893 -0.54949329 -0.04798558 -0.25901548\n",
      "   0.52950957 -0.12313526 -0.20327624 -0.75849214 -0.05406188]\n",
      " [ 0.04243328  0.19029779 -0.04960991  0.91271928  0.15770597  0.85889656\n",
      "   0.04446574 -0.47907459  0.10755521  0.23134109  0.10172003]\n",
      " [-0.75510696 -0.86451481 -0.53592764 -0.66512388 -0.16710215 -0.91265109\n",
      "  -0.65049199  0.80640074  0.07553678  0.51943266 -0.08210135]]\n"
     ]
    }
   ],
   "source": [
    "m, D = K_Means(tracks, len(artists))\n",
    "print(m)"
   ]
  },
  {
   "cell_type": "markdown",
   "metadata": {},
   "source": [
    "Now lets check how you did.\n",
    " \n",
    "What I do below is construct a table that records on each row i, how many songs  from each artist (columns) went to centroid i. You should see the majority of one artists songs going to a distinct cluster. If that is the case for all the artists, then K-Means worked pretty well. \n",
    "\n",
    "For the cell to work all you will need to have the variable **m** in the format I asked for."
   ]
  },
  {
   "cell_type": "code",
   "execution_count": 659,
   "metadata": {},
   "outputs": [
    {
     "name": "stdout",
     "output_type": "stream",
     "text": [
      "\tDrake\tThe Be\tBTS\t\n",
      "\n",
      "K = 0 \t147\t11\t32\t\n",
      "\n",
      "K = 1 \t43\t31\t165\t\n",
      "\n",
      "K = 2 \t10\t158\t3\t\n",
      "\n"
     ]
    }
   ],
   "source": [
    "# This will arbitrarily place all the aritst in the zeroth centroid until you have actual data. (since I initualized the count as zero)\n",
    "\n",
    "artist_count = np.zeros((len(artists),len(artists)))\n",
    "for idx in range(tracks.shape[0]):\n",
    "    distance = np.linalg.norm((tracks[idx]-m),axis=1)**2\n",
    "    centroid = np.argmin(distance)\n",
    "    artist = spotify['artists'][idx]\n",
    "    artist_count[centroid][np.argwhere(artist == artists).item()] += 1\n",
    "\n",
    "print('\\t',end=\"\")\n",
    "for art in artists:\n",
    "    print(art[0:6]+'\\t',end=\"\")\n",
    "print('\\n')\n",
    "for i in range(artist_count.shape[0]):\n",
    "    print('K = %d \\t'%i,end=\"\")\n",
    "    for j in range(artist_count.shape[1]):\n",
    "        print(str(int(artist_count[i,j]))+'\\t',end=\"\")\n",
    "    print(\"\\n\")\n",
    "    \n",
    "\n"
   ]
  },
  {
   "cell_type": "markdown",
   "metadata": {},
   "source": [
    "### Gaussian Mixture Models\n",
    "\n",
    "Before writing our EM algorithm, lets play around with plotting Gaussian mixtures to get a better understanding of what they are. Below I load the data provided to you."
   ]
  },
  {
   "cell_type": "code",
   "execution_count": 660,
   "metadata": {},
   "outputs": [
    {
     "data": {
      "text/plain": [
       "{'mu': [1.3, -1.8],\n",
       " 'sigma': [0.7, 1.5],\n",
       " 'pi': 0.3,\n",
       " 'X': array([ 0.09559269,  1.11857874,  0.78138074, ..., -1.6359137 ,\n",
       "         0.78075122,  2.02804039])}"
      ]
     },
     "execution_count": 660,
     "metadata": {},
     "output_type": "execute_result"
    }
   ],
   "source": [
    "Data = pickle.load(open(os.getcwd()+'/data/GMM.p','rb'))\n",
    "Data"
   ]
  },
  {
   "cell_type": "markdown",
   "metadata": {},
   "source": [
    "X is your unlabeled dataset, and this time you are not given the labels since all the information about the data comes from the parameters. What are the parameters? The prior, the standard deviations, and the means. Your job is to use the EM algorithm to find these values. You can use the true values to test how well your algorithm is doing."
   ]
  },
  {
   "cell_type": "code",
   "execution_count": 661,
   "metadata": {},
   "outputs": [],
   "source": [
    "def plot_gmm(X,pi,mu,sigma,sol=None):\n",
    "    '''\n",
    "    Plots a GMM that is 1-dimensional and has 2-components.\n",
    "    Uses scipy.stas to overlay the predicted gaussians\n",
    "\n",
    "    Inputs: \n",
    "        X     - input data as 1-d np.array\n",
    "        pi    - prior of componenet 1 (not 0)\n",
    "        mu    - np array of means \n",
    "        sigma - np.array of stds\n",
    "    '''\n",
    "    # range of values\n",
    "    MIN, MAX = X.min(), X.max()\n",
    "    domain = np.linspace(MIN, MAX,100)\n",
    "\n",
    "    fig, axs = plt.subplots(1,1)\n",
    "    axs.set_xlim(MIN, MAX)\n",
    "    # plot our values as a distribution\n",
    "    axs.hist(X,bins=100,density=True,color='gray',alpha=0.3)\n",
    "    # now plot the predicted gaussians over the same range\n",
    "    g0 = (1-pi)*norm.pdf(domain,mu[0],scale=sigma[0])\n",
    "    g1 = (pi)*norm.pdf(domain,loc=mu[1],scale=sigma[1])\n",
    "\n",
    "    axs.plot(domain,g0,color=ORANGE,label='$g_0$',linestyle='--')\n",
    "    axs.plot(domain,g1,color=TEAL,label='$g_1$',linestyle='--')\n",
    "    plt.vlines(x=mu[0],ymin=0,ymax=g0[int(100*abs(MIN-mu[0])/abs(MAX-MIN))],color=ORANGE,label='$\\mu_0$',alpha=0.5,linewidth=5)\n",
    "    plt.vlines(x=mu[1],ymin=0,ymax=g1[int(100*abs(MIN-mu[1])/abs(MAX-MIN))],color=TEAL,label='$\\mu_1$',alpha=0.5,linewidth=5)\n",
    "\n",
    "    if sol is not None:\n",
    "        plt.vlines(x=sol[0],ymin=0,ymax=g0[int(100*abs(MIN-sol[0])/abs(MAX-MIN))],color=ORANGE,label='$\\hat{\\mu}_0$',linewidth=2)\n",
    "        plt.vlines(x=sol[1],ymin=0,ymax=g1[int(100*abs(MIN-sol[1])/abs(MAX-MIN))],color=TEAL,label='$\\hat{\\mu}_1$',linewidth=2)\n",
    "\n",
    "    axs.legend()\n",
    "    plt.xlabel('$x$')\n",
    "    plt.ylabel('$P(x)$')\n",
    "    plt.title('Gaussian Mixture Model')\n"
   ]
  },
  {
   "cell_type": "markdown",
   "metadata": {},
   "source": [
    "So what is a Gaussian Mixture Model? It is a random variable that is derived as a sum of two weighted gaussian distributions. In the binary, case you can think of this variable as $X$, where we draw i.i.d. samples of $X$ by using the following pdf:\n",
    "\n",
    "$$\n",
    "p(X=x) = (1-\\pi)g_0(x) + \\pi g_1(x),\n",
    "$$\n",
    "\n",
    "where $g_0(x)$ and $g_1(x)$ are the **pdfs** of the distributions $\\mathcal{N(\\mu_0,\\sigma_0^2)}$ and $\\mathcal{N(\\mu_1,\\sigma_1^2)}$ respecitevely. These pdfs are sometimes denoted to as $\\phi_{\\mu_0,\\sigma_0^2}$, and $\\phi_{\\mu_1,\\sigma_1^2}$, and they can be computed by using the exact equation of the pdf, or in our case we will just rely on scipy.stats.norm.\n",
    "\n",
    "Lets visualize our data, and plot the corresponding pdfs of the gaussians over the plot. \n",
    "\n",
    "Take note of how I used:\n",
    "\n",
    "```python\n",
    "g0 = (1-pi)*norm.pdf(domain,mu[0],scale=sigma[0])\n",
    "g1 = (pi)*norm.pdf(domain,loc=mu[1],scale=sigma[1])\n",
    "```\n",
    "\n",
    "to get the values of the pdf for all locations that I wanted. You will need to use this function in your code for EM.\n",
    "\n",
    "See [scipy.stats](https://docs.scipy.org/doc/scipy/reference/generated/scipy.stats.norm.html) for more info"
   ]
  },
  {
   "cell_type": "code",
   "execution_count": 662,
   "metadata": {},
   "outputs": [
    {
     "data": {
      "image/png": "[encoded data removed]",
      "text/plain": [
       "<Figure size 432x288 with 1 Axes>"
      ]
     },
     "metadata": {
      "needs_background": "light"
     },
     "output_type": "display_data"
    }
   ],
   "source": [
    "plot_gmm(Data['X'],Data['pi'],Data['mu'],Data['sigma'])\n",
    "\n"
   ]
  },
  {
   "cell_type": "markdown",
   "metadata": {},
   "source": [
    "Okay so we already have K-Means written out, so might as well try to use it on this data. Note the extra variable in the plotting fucntion allows you to check your solution for the mean. Since K-Means only provides us with the mean, this is all we can do. On the other hand, EM will be able to solve for all the parameters we want: (mean, std, and prior)"
   ]
  },
  {
   "cell_type": "code",
   "execution_count": 663,
   "metadata": {},
   "outputs": [
    {
     "name": "stdout",
     "output_type": "stream",
     "text": [
      "DONE\n",
      "[ 1.24886107 -2.26322865]\n"
     ]
    },
    {
     "data": {
      "image/png": "[encoded data removed]",
      "text/plain": [
       "<Figure size 432x288 with 1 Axes>"
      ]
     },
     "metadata": {
      "needs_background": "light"
     },
     "output_type": "display_data"
    }
   ],
   "source": [
    "mu, D = K_Means(Data['X'],2)\n",
    "print(mu)\n",
    "# mu = mu.squeeze() # packs the data into one dimension\n",
    "plot_gmm(Data['X'],Data['pi'],Data['mu'],Data['sigma'],sol=mu)"
   ]
  },
  {
   "cell_type": "markdown",
   "metadata": {},
   "source": [
    "Not Bad, but also quite skewed. K-Means has no conseption of variance, and hence it skews the distribution means to the left when minimizing the distrortion. Since the data is actually represented by a gaussian mixture model, we should be able to get a much more accurate prediction using the EM algorithm."
   ]
  },
  {
   "cell_type": "markdown",
   "metadata": {},
   "source": [
    "### III. EM Algorithm\n",
    "\n",
    "Okay so this time you will be more or less on your own, but the mathematical notation of the algorithm is provided to you. \n",
    "\n",
    "You are given a dataset $\\mathcal{X}=\\{x_1,x_2,\\ldots,x_N\\}$ of one-dimensinoal samples $x$ that come from a binary Guassian mixture model with the following true parameters:\n",
    "\n",
    "$$\\mu_0, \\mu_1, \\sigma_0, \\sigma_1, \\pi$$\n",
    "\n",
    "We want to estimate these parameters, and hence we preform the EM algorithm  by doing the following steps:\n",
    "\n",
    "1) Take initial guesses for the parameters (use K-Means): \n",
    "$$\n",
    "\\hat{\\mu_0}, \\hat{\\mu_1}, \\hat{\\sigma_0}, \\hat{\\sigma_1}, \\hat{\\pi}\n",
    "$$\n",
    "\n",
    "2) **Expectation**-step:\n",
    "\n",
    "compute the responsabilities, $\\gamma_i$ for each sample $x_i$. These are essentially the probabilities that given the current parameters, **$x_i$ belongs to class 1**:\n",
    "\n",
    "$$\n",
    "\\gamma_i = \\frac{\\hat{\\pi}\\phi_{\\hat{\\mu_1},\\hat{\\sigma_1}^2}(x_i)}{(1-\\hat{\\pi})\\phi_{\\hat{\\mu_0},\\hat{\\sigma_0}^2}(x_i)+\\hat{\\pi}\\phi_{\\hat{\\mu_1},\\hat{\\sigma_1}^2}(x_i)},\\quad i=1,2,\\ldots,N\n",
    "$$\n",
    "\n",
    "3) **Maximization**-step: \n",
    "\n",
    "compute the weighted means and variances using these responsabilities.\n",
    "\n",
    "$$\n",
    "\\hat{\\mu_0}=\\frac{\\sum_{i=1}^{N}\\big((1-\\gamma_i)x_i\\big)}{\\sum_{i=1}^{N}(1-\\gamma_i)}, \\quad \\hat{\\mu_1}=\\frac{\\sum_{i=1}^{N}\\big(\\gamma_i x_i\\big)}{\\sum_{i=1}^{N}\\gamma_i}\n",
    "$$\n",
    "\n",
    "$$\n",
    "\\hat{\\sigma_0^2}=\\frac{\\sum_{i=1}^{N}\\big((1-\\gamma_i)(x_i-\\hat{\\mu_0})^2\\big)}{\\sum_{i=1}^{N}(1-\\gamma_i)}, \\quad \\hat{\\sigma_1^2}=\\frac{\\sum_{i=1}^{N}\\big(\\gamma_i (x_i-\\hat{\\mu_1})^2\\big)}{\\sum_{i=1}^{N}\\gamma_i}\n",
    "$$\n",
    "\n",
    "and rescale the prior\n",
    "\n",
    "$$\n",
    "\\hat{\\pi} = \\frac{1}{N}\\sum_{i=1}^{N}\\gamma_i\n",
    "$$\n",
    "Reapeat the Expectation and Maximization Step until convergence.\n",
    "\n",
    "\n",
    "Take note that you are updating the variance, not the standard deviation. "
   ]
  },
  {
   "cell_type": "code",
   "execution_count": 664,
   "metadata": {},
   "outputs": [],
   "source": [
    "def EM_step(X, pi, mu, sigma):\n",
    "    '''\n",
    "    Maybe you would like to isolate one step of the algorithm?\n",
    "    '''\n",
    "    \n",
    "    # number of samples\n",
    "    N = len(X)\n",
    "\n",
    "    # get the distributions\n",
    "    MIN, MAX = X.min(), X.max()\n",
    "\n",
    "    domain = np.linspace(MIN, MAX,100)\n",
    "    phi_0 = norm.pdf(domain,mu[0],scale=sigma[0])\n",
    "    phi_1 = norm.pdf(domain,mu[1],scale=sigma[1])\n",
    "    \n",
    "    # expectation step: for every sample, assign a soft label\n",
    "    soft_labels = np.zeros((N,1))\n",
    "    for i,x in enumerate(X):\n",
    "        # map x to the closest value in the domain, get the idx\n",
    "        x = np.argmin(np.abs(x-domain))\n",
    "        phi1 = phi_1[x]\n",
    "        phi0 = phi_0[x]\n",
    "        soft_labels[i] = (pi*phi1)/(pi*phi1 + (1-pi)*phi0)\n",
    "\n",
    "    # maximization step: update the parameters\n",
    "\n",
    "    gamma_sum1 = np.sum(soft_labels)\n",
    "    gamma_sum0 = np.sum(1-soft_labels)\n",
    "\n",
    "    # mean\n",
    "    prod0 = np.dot((1-soft_labels).T,X.reshape(-1,1))\n",
    "    prod1 = np.dot(soft_labels.T,X.reshape(-1,1))\n",
    "    mu_0 = prod0 / gamma_sum0\n",
    "    mu_1 = prod1 / gamma_sum1\n",
    "    new_mu = np.array([mu_0.item(),mu_1.item()])\n",
    "    \n",
    "    # variance\n",
    "    prod0 = np.dot((1-soft_labels).T,np.square(X.reshape(-1,1)-mu[0]))\n",
    "    prod1 = np.dot(soft_labels.T,np.square(X.reshape(-1,1)-mu[1]))\n",
    "    sigma_0 = np.sqrt(prod0 / gamma_sum0)\n",
    "    sigma_1 = np.sqrt(prod1 / gamma_sum1)\n",
    "    new_sigma = np.array([sigma_0.item(),sigma_1.item()])\n",
    "    \n",
    "    # prior\n",
    "    new_pi = (1/N)*gamma_sum1\n",
    "\n",
    "    return new_pi, new_mu, new_sigma"
   ]
  },
  {
   "cell_type": "markdown",
   "metadata": {},
   "source": [
    "Ready to make your algorithm? Have all the helper functions you want created (or not)? Okay so same as before, follow the format of the output and you should be able to plot your solution using the table and function provided after this cell. "
   ]
  },
  {
   "cell_type": "code",
   "execution_count": 665,
   "metadata": {},
   "outputs": [],
   "source": [
    "def EM(X):\n",
    "    '''\n",
    "    The EM algorithm in it's least-full form. \n",
    "\n",
    "    Inputs:\n",
    "        X - np.array of length N, since this is one dimensional data\n",
    "    \n",
    "    Outputs:\n",
    "        pi    - just a floating point representing your FINAL prior\n",
    "        mu    - 2-dimensional np.array, with your FINAL mu_0 and mu_1\n",
    "        sigma - 2-dimensional np.array, with your FINAL sigma_0 and sigma_1\n",
    "    '''\n",
    "\n",
    "    # initialize randomly\n",
    "    pi = rng.random()\n",
    "    mu = rng.random(2)\n",
    "    sigma = rng.random(2)\n",
    "\n",
    "    # run until convergence (takes over a minute)\n",
    "    pi_new,mu_new,sigma_new = EM_step(X,pi,mu,sigma)\n",
    "    while (not np.array_equal(pi_new,pi)) or (not np.array_equal(mu_new,mu)) or (np.array_equal(sigma_new,sigma)):\n",
    "        pi,mu,sigma = pi_new.copy(),mu_new.copy(),sigma_new.copy()\n",
    "        pi_new,mu_new,sigma_new = EM_step(X,pi,mu,sigma)\n",
    "    return pi,mu,sigma"
   ]
  },
  {
   "cell_type": "code",
   "execution_count": 666,
   "metadata": {
    "tags": []
   },
   "outputs": [
    {
     "name": "stdout",
     "output_type": "stream",
     "text": [
      "\t\t True Values \t Predicted \t Error\n",
      "pi \t\t 0.30 \t\t 0.31 \t\t 0.01 \n",
      "mu_0 \t\t 1.30 \t\t 1.33 \t\t 0.03\n",
      "mu_1 \t\t -1.80 \t\t -1.76 \t\t 0.04\n",
      "sigma_0 \t 0.70 \t\t 0.69 \t\t 0.01\n",
      "sigma_1 \t 1.50 \t\t 1.48 \t\t 0.02\n",
      "\n"
     ]
    }
   ],
   "source": [
    "n_pi, n_mu, n_sigma= EM(Data['X'])\n",
    "\n",
    "# results\n",
    "print('\\t\\t True Values \\t Predicted \\t Error')\n",
    "print('pi \\t\\t %.2f \\t\\t %.2f \\t\\t %.2f '%(Data['pi'],n_pi,abs(n_pi-Data['pi'])))\n",
    "print('mu_0 \\t\\t %.2f \\t\\t %.2f \\t\\t %.2f'%(Data['mu'][0],n_mu[0],abs(n_mu[0]-Data['mu'][0])))\n",
    "print('mu_1 \\t\\t %.2f \\t\\t %.2f \\t\\t %.2f'%(Data['mu'][1],n_mu[1],abs(n_mu[1]-Data['mu'][1])))\n",
    "print('sigma_0 \\t %.2f \\t\\t %.2f \\t\\t %.2f'%(Data['sigma'][0],n_sigma[0],abs(n_sigma[0]-Data['sigma'][0])))\n",
    "print('sigma_1 \\t %.2f \\t\\t %.2f \\t\\t %.2f\\n'%(Data['sigma'][1],n_sigma[1],abs(n_sigma[1]-Data['sigma'][1])))\n"
   ]
  },
  {
   "cell_type": "code",
   "execution_count": 667,
   "metadata": {},
   "outputs": [
    {
     "data": {
      "image/png": "[encoded data removed]",
      "text/plain": [
       "<Figure size 432x288 with 1 Axes>"
      ]
     },
     "metadata": {
      "needs_background": "light"
     },
     "output_type": "display_data"
    }
   ],
   "source": [
    "plot_gmm(Data['X'],Data['pi'],Data['mu'],Data['sigma'],sol=n_mu)"
   ]
  },
  {
   "cell_type": "code",
   "execution_count": null,
   "metadata": {},
   "outputs": [],
   "source": []
  }
 ],
 "metadata": {
  "interpreter": {
   "hash": "caac890483344f100c555248cfad18a33218e5fcdacad15f4153d0d487f0faf7"
  },
  "kernelspec": {
   "display_name": "Python 3.9.7 ('base')",
   "language": "python",
   "name": "python3"
  },
  "language_info": {
   "codemirror_mode": {
    "name": "ipython",
    "version": 3
   },
   "file_extension": ".py",
   "mimetype": "text/x-python",
   "name": "python",
   "nbconvert_exporter": "python",
   "pygments_lexer": "ipython3",
   "version": "3.9.7"
  },
  "metadata": {
   "interpreter": {
    "hash": "e14277392997ec7b8d0d4e1eacc6a12462d831e78f154a1c368aae24d965e9e8"
   }
  },
  "orig_nbformat": 2
 },
 "nbformat": 4,
 "nbformat_minor": 2
}
