{
 "cells": [
  {
   "cell_type": "markdown",
   "metadata": {},
   "source": [
    "## Lab 4: Introduction to Reinforcement Leaerning\n",
    "\n",
    "In this lab we will get a small taste of the power Reinforcement Learning (RL) has to offer when it comes to robotics and control. Your task will be to use the [gym](https://gym.openai.com/docs/) library to simulate a small MDP environment, and use tabular Q-learning to solve it. \n",
    "\n",
    "Given the interdisciplinary nature of RL, the breadth of the topic can easily fill multiple courses. Here, you will be introduced to the math you need to succesfully implement Q-learning, but the reasoning behind all the steps is not explained. I recommend starting at this [lecture](https://www.youtube.com/watch?v=E3f2Camj0Is&list=PLoROMvodv4rOSOPzutgyCTapiGlY2Nd8u&index=2) for those interested. Note that \n",
    "it takes three lectures (2-4) to arrive at the Q-learning formulation.\n",
    "\n",
    "\n"
   ]
  },
  {
   "cell_type": "markdown",
   "metadata": {},
   "source": [
    "## Lab Overview\n",
    "### I. gym\n",
    "### II. Markov Decision Processes\n",
    "### III. Q-learning\n",
    "\n",
    "### You are responsible for completing the tasks explained in:\n",
    "- **Cells 7-8**: Your tabular Q-learning implementation.\n",
    "- **Cells 11-12**: A plot of your training statistics.\n"
   ]
  },
  {
   "cell_type": "markdown",
   "metadata": {},
   "source": [
    "### I. gym\n",
    "\n",
    "The [gym](https://gym.openai.com/docs/) library is a benchmark suite for RL provided by OpenAI. It is widely used in research due to its easy integration with python.\n",
    "\n",
    "You can install it below as we did for scipy in the last lab, or use the new yml file provided. "
   ]
  },
  {
   "cell_type": "code",
   "execution_count": 1,
   "metadata": {},
   "outputs": [
    {
     "name": "stdout",
     "output_type": "stream",
     "text": [
      "Requirement already satisfied: gym in c:\\users\\geffenpc\\anaconda3\\envs\\lab\\lib\\site-packages (0.18.0)\n",
      "Requirement already satisfied: pyglet<=1.5.0,>=1.4.0 in c:\\users\\geffenpc\\anaconda3\\envs\\lab\\lib\\site-packages (from gym) (1.5.0)Note: you may need to restart the kernel to use updated packages.\n",
      "\n",
      "Requirement already satisfied: numpy>=1.10.4 in c:\\users\\geffenpc\\anaconda3\\envs\\lab\\lib\\site-packages (from gym) (1.19.2)\n",
      "Requirement already satisfied: cloudpickle<1.7.0,>=1.2.0 in c:\\users\\geffenpc\\anaconda3\\envs\\lab\\lib\\site-packages (from gym) (1.6.0)\n",
      "Requirement already satisfied: scipy in c:\\users\\geffenpc\\anaconda3\\envs\\lab\\lib\\site-packages (from gym) (1.6.3)\n",
      "Requirement already satisfied: Pillow<=7.2.0 in c:\\users\\geffenpc\\anaconda3\\envs\\lab\\lib\\site-packages (from gym) (7.2.0)\n",
      "Requirement already satisfied: future in c:\\users\\geffenpc\\anaconda3\\envs\\lab\\lib\\site-packages (from pyglet<=1.5.0,>=1.4.0->gym) (0.18.2)\n"
     ]
    }
   ],
   "source": [
    "pip install gym"
   ]
  },
  {
   "cell_type": "code",
   "execution_count": 2,
   "metadata": {},
   "outputs": [],
   "source": [
    "import gym\n",
    "import numpy as np \n"
   ]
  },
  {
   "cell_type": "markdown",
   "metadata": {},
   "source": [
    "There are a ton of environments to choose from with gym, they can all be accessed using their associated name. "
   ]
  },
  {
   "cell_type": "code",
   "execution_count": 3,
   "metadata": {},
   "outputs": [],
   "source": [
    "env = gym.make(\"Taxi-v3\").env"
   ]
  },
  {
   "cell_type": "markdown",
   "metadata": {},
   "source": [
    "Once you've made the environemnt, you can directly interact with the env object created.\n",
    "\n",
    "Here we will look at the taxi environment, where the goal of the agent/robot/taxi is to pick up a passenger from one of  four possible locations, and drop them off at another. Since the environment is small and does not relocate the obstacles it is easy to solve methodically, but we will see how a general algorithm can be used to find the ideal policy.  \n",
    "\n",
    "We can take a look at what's going on up close:"
   ]
  },
  {
   "cell_type": "code",
   "execution_count": 4,
   "metadata": {},
   "outputs": [
    {
     "name": "stdout",
     "output_type": "stream",
     "text": [
      "+---------+\n",
      "|\u001b[43mR\u001b[0m: | : :\u001b[34;1mG\u001b[0m|\n",
      "| : | : : |\n",
      "| : : : : |\n",
      "| | : | : |\n",
      "|\u001b[35mY\u001b[0m| : |B: |\n",
      "+---------+\n",
      "\n"
     ]
    }
   ],
   "source": [
    "env.render() "
   ]
  },
  {
   "cell_type": "markdown",
   "metadata": {},
   "source": [
    "[Taxi-v3](https://gym.openai.com/envs/Taxi-v3/)\n",
    "\n",
    "A thorough explanation directly from the [source](https://github.com/openai/gym/blob/master/gym/envs/toy_text/taxi.py):\n",
    "\n",
    "#\n",
    "    The Taxi Problem\n",
    "    from \"Hierarchical Reinforcement Learning with the MAXQ Value Function Decomposition\"\n",
    "    by Tom Dietterich\n",
    "\n",
    "    Description:\n",
    "    There are four designated locations in the grid world indicated \n",
    "    by R(ed), G(reen), Y(ellow), and B(lue). \n",
    "    When the episode starts, the taxi starts off at a random square \n",
    "    and the passenger is at a random location. \n",
    "    The taxi drives to the passenger's location, \n",
    "    picks up the passenger, drives to the passenger's destination \n",
    "    (another one of the four specified locations), and then drops off the passenger. \n",
    "    Once the passenger is dropped off, the episode ends.\n",
    "    Observations:\n",
    "    There are 500 discrete states since there are 25 taxi positions, \n",
    "    5 possible locations of the passenger, and 4 destination locations. \n",
    "\n",
    "    Passenger locations:\n",
    "    - 0: R(ed)\n",
    "    - 1: G(reen)\n",
    "    - 2: Y(ellow)\n",
    "    - 3: B(lue)\n",
    "    - 4: in taxi\n",
    "\n",
    "    Destinations:\n",
    "    - 0: R(ed)\n",
    "    - 1: G(reen)\n",
    "    - 2: Y(ellow)\n",
    "    - 3: B(lue)\n",
    "\n",
    "    Actions:\n",
    "    There are 6 discrete deterministic actions:\n",
    "    - 0: move south\n",
    "    - 1: move north\n",
    "    - 2: move east\n",
    "    - 3: move west\n",
    "    - 4: pickup passenger\n",
    "    - 5: drop off passenger\n",
    "\n",
    "    Rewards:\n",
    "    There is a default per-step reward of -1,\n",
    "    except for delivering the passenger, which is +20,\n",
    "    or executing \"pickup\" and \"drop-off\" actions illegally, which is -10.\n",
    "    \n",
    "    Rendering:\n",
    "    - blue: passenger\n",
    "    - magenta: destination\n",
    "    - yellow: empty taxi\n",
    "    - green: full taxi\n",
    "    - other letters (R, G, Y and B): locations for passengers and destinations\n",
    "    \n",
    "    state space is represented by:\n",
    "        (taxi_row, taxi_col, passenger_location, destination)\n",
    "#"
   ]
  },
  {
   "cell_type": "markdown",
   "metadata": {},
   "source": [
    "So how do we interact with the environment?\n",
    "\n",
    "Essentially you only need two methods: a way to reset the environment once the passenger has been dropped off, and a way to take a specific action. \n",
    "\n",
    "We first take a look at the env.reset() method. When you reset a gym environment, it returns the initial state of the env. Technically the state should be a 4-dim vector: (taxi_row, taxi_col, passenger_location, destination), but since there are only 500 possible states the vector is encoded to an integer value. If you want to make sense of this value in its original representation you can use the provided env.decode() method.  \n"
   ]
  },
  {
   "cell_type": "code",
   "execution_count": 5,
   "metadata": {},
   "outputs": [
    {
     "name": "stdout",
     "output_type": "stream",
     "text": [
      "[2, 1, 3, 1]\n",
      "+---------+\n",
      "|R: | : :\u001b[35mG\u001b[0m|\n",
      "| : | : : |\n",
      "| :\u001b[43m \u001b[0m: : : |\n",
      "| | : | : |\n",
      "|Y| : |\u001b[34;1mB\u001b[0m: |\n",
      "+---------+\n",
      "\n"
     ]
    }
   ],
   "source": [
    "output = env.reset()\n",
    "print(list(env.decode(output)))\n",
    "env.render()\n"
   ]
  },
  {
   "cell_type": "code",
   "execution_count": 6,
   "metadata": {},
   "outputs": [
    {
     "name": "stdout",
     "output_type": "stream",
     "text": [
      "233\n"
     ]
    }
   ],
   "source": [
    "print(output)"
   ]
  },
  {
   "cell_type": "markdown",
   "metadata": {},
   "source": [
    "Okay that was the reset, now the second ingredient we need is a way to control the env. We can do this with env.step(), where the input should be an integer b/w 0 and 5 as described above. Once we take our desired action with env.step(), it returns 4 items: the next state,the reward recieved for taking our action, a boolean that checks if we are done, and information regarding the states visited (we dont need this last part). "
   ]
  },
  {
   "cell_type": "code",
   "execution_count": 7,
   "metadata": {},
   "outputs": [
    {
     "name": "stdout",
     "output_type": "stream",
     "text": [
      "+---------+\n",
      "|R: | : :\u001b[35mG\u001b[0m|\n",
      "| : | : : |\n",
      "| :\u001b[43m \u001b[0m: : : |\n",
      "| | : | : |\n",
      "|Y| : |\u001b[34;1mB\u001b[0m: |\n",
      "+---------+\n",
      "  (Pickup)\n",
      "state: \t [2, 1, 3, 1]\n",
      "rew: \t -10\n",
      "done: \t False\n"
     ]
    }
   ],
   "source": [
    "state, rew, done, _ = env.step(4)\n",
    "env.render()\n",
    "print('state: \\t', list(env.decode(state)))\n",
    "print('rew: \\t', rew)\n",
    "print('done: \\t', done)\n"
   ]
  },
  {
   "cell_type": "markdown",
   "metadata": {},
   "source": [
    "### II. Markov Decision Processes\n",
    "Markov Chains (MC) are powerful tools for modeling the dynamics of systems. What if we wanted to use an MC to model a certain game, evaluating different policies to compare them? We can just use MCs, but since we want a good metric to evaluate these policies, we need to consider taking different actions and recieving a reward signal for feedback. At some state $s_t$ in the MC, we can take an action $a_t$, and observe not only the next state $s_{t+1}$, but also the reward $r_t$ associated with that transition. This is how Markov Decision Processes (MDP) are formed i.e., they combine elements of control with the Markovian model.  \n",
    "\n",
    "MDPs rely on the Markov Assumption:\n",
    "$$\n",
    "P(s_{t+1}|s_t,a_t)=P(s_{t+1}|h_t,a_t),\n",
    "$$\n",
    "where $h_t$ is the history of all states up to step $t$. Essentially, this says that we only need to know the current state and the action to predict the outcome. With this assumption, we can formulate an MDP $\\mathcal{M}:\\{\\mathcal{S},\\mathcal{A},P,R\\}$ as a collection of a set of states, a set of actions, a probability transition function and a reward transition function respectively. \n",
    "\n",
    "We also need a way to express the policy:  \n",
    "$$\\pi: \\mathcal{S}\\mapsto\\mathcal{A},$$\n",
    "where in the determenistic case $\\pi(s)=a$. Otherwise $\\pi(a|s) = Pr.(a_t=a|s_t=s)$\n",
    "\n",
    "At every state $s_t$, we receive a reward $r_t=R(s,a)$ for taking action $a_t$. By rolling out a certain policy $\\pi$ in our MDP, we can collect what we call the return at step $t$:\n",
    "$$\n",
    "G_t = r_t + \\gamma r_{t+1} + \\gamma^2 r_{t+2} + \\ldots.\n",
    "$$\n",
    "You can think of this as the total payout we will get if we run polciy $\\pi$ in our given MDP, where $\\gamma$ is a the discount factor we give towards rewards we receive in the future. We set $\\gamma<1$ in order to give higher weight to rewards that come sooner, but also this makes sure that our return $G_t$ is finite even if our policy runs for an infinite time. This way we do not have to worry about the horizon of our MDP. \n",
    "\n",
    "\n",
    "\n"
   ]
  },
  {
   "cell_type": "markdown",
   "metadata": {},
   "source": [
    "#### Value and Q Function.\n",
    "A major component in reinforcement learning is keeping track of the expected return a certain policy will provide in an environment. This is defined as the value function:\n",
    "$$\n",
    "V^{\\pi}(s_t=s)=E_{\\pi}[G_t|s_t=s].\n",
    "$$\n",
    "If we knew the value function for any policy $\\pi$, we can easily compare the quality of different polcieis. But we can go one step further with our evaluation. Say at a given state $s_t$ we wanted to evaluate our policy $\\pi$, but only after taking a certain action $a_t$, and then continuing with our policy $\\pi$. This is defined as the Q-function: \n",
    "$$\n",
    "Q^{\\pi}(s_t=s,a_t=a) = R(s,a) + \\gamma\\sum_{s'\\in\\mathcal{S}}P(s'|s,a)V^{\\pi}(s')\n",
    "$$\n",
    "The methodology here is that we can now evaluate our off policy decision to take action $a$. Since we know how we can estimate the value function, computing the Q-values allows us to take $\\max_a Q^\\pi(s,a)$ instead of following the policy, since this is gauranteed to be atleast as good as following $\\pi$. "
   ]
  },
  {
   "cell_type": "markdown",
   "metadata": {},
   "source": [
    "### III. Tabular Q-Learning\n",
    "In Q-Learning we measure the Temporal Difference between **target** and **current estimate** of the Q-function. \n",
    "$$\n",
    "\\begin{align}\n",
    "\\textrm{target: }&\\qquad r_t + \\gamma\\max_{a'}Q(s_{t+1},a')\\\\\n",
    "\\textrm{estimate: }&\\qquad Q(s_t,a_t)\n",
    "\\end{align}\n",
    "$$\n",
    "Their difference measures the error between what the environment is telling us, and our current estimate. We can use this error to update our current estimate, which formulates the Q-learning algorithm:\n",
    "$$\n",
    "Q(s_t,a_t) := Q(s_t,a_t)+\\alpha\\Big(r_t+\\gamma\\max_{a'}Q(s_{t+1},a')-Q(s_t,a_t)\\Big).\n",
    "$$\n",
    "Now we just need a way to evaluate the policy, for which we use the epsilon-greedy approach: \n",
    "$$\n",
    "\\pi(a|s)=\n",
    "\\begin{cases}\n",
    "\\textrm{arg}\\max_a Q^\\pi(s,a)\\qquad \\textrm{w. prob } 1-\\epsilon,\\\\\n",
    "\\textrm{take a random action}\\qquad \\textrm{w. prob } \\epsilon.\n",
    "\\end{cases}\n",
    "$$\n",
    "Note how $\\epsilon$ controls how much we $\\textit{explore}$ the environment versus how much we $\\textit{exploit}$ our policy. A lot of RL is posed as a battle between exploration and exploitation, hence $\\epsilon$ is an important parameter. Typically we want to decrease the amount we explore as our policy gets better, and we do this by adapting some sort of **decay** to $\\epsilon$. In addition, since $\\alpha$ controls the speed at which we update our policy, you can consider adapting some decay as well. \n",
    "\n",
    "I will leave this element for you to experiment with, as it serves as an interesting challenge to try and find the correct parameters and fine tune. As a reference, you should be able to find the policy within 20,000 episodes (where episodes end when the taxi drops off the passenger.) In fact, even 5,000 is enough but you will see slight improvement following. \n",
    "\n"
   ]
  },
  {
   "cell_type": "markdown",
   "metadata": {},
   "source": [
    "#### Your task.\n",
    "\n",
    "The actual algorithm can be written within one cell, or broken up into smaller components, it is your choice. There are only two things I require:\n",
    "\n",
    "(1) **Represent your Q-table as an np.array of size (500,6)**, hence 500 states and 6 actions. This will let you use my policy evaluation function that follows to check if you found the solution. You might want to take a look at that function first if you have any confusion about how to interact with the gym env. \n",
    "\n",
    "(2) **Collect reward statistic of your policy over the 20,000 episodes, and plot it yourself.** You will  probably want this statistic for yourself anyway, but the plotting component is added so that we can better visualize our data. Typically we consider the episodic reward collected over one rollout, but note that using this directly will give youa noisy result. I leave the figure making up to you this time, feel free to use the templates or anything else that you like! "
   ]
  },
  {
   "cell_type": "markdown",
   "metadata": {},
   "source": [
    "Task (1):\n",
    "\n",
    "Your Q-learning algorithm goes below. "
   ]
  },
  {
   "cell_type": "markdown",
   "metadata": {},
   "source": [
    "### Function for selecting action"
   ]
  },
  {
   "cell_type": "code",
   "execution_count": 8,
   "metadata": {},
   "outputs": [],
   "source": [
    "# used to select random action\n",
    "from numpy.random import default_rng\n",
    "rng = default_rng(seed=42)\n",
    "\n",
    "# this function chooses the next action to take\n",
    "# which requires the current state, the Q table, and prob of random action\n",
    "def choose_action(curr_state, Q_table, eps):\n",
    "    # possible actions\n",
    "    actions = Q_table[curr_state,:]\n",
    "\n",
    "    # case 1: choose action with largest Q value for current state\n",
    "    if rng.random() > eps:\n",
    "        act = np.argmax(actions)\n",
    "        return act\n",
    "    # case 2: choose a random action from 0-5\n",
    "    else:\n",
    "        act = rng.integers(6)\n",
    "        return act"
   ]
  },
  {
   "cell_type": "markdown",
   "metadata": {},
   "source": [
    "### Driver Code"
   ]
  },
  {
   "cell_type": "code",
   "execution_count": 9,
   "metadata": {
    "tags": []
   },
   "outputs": [],
   "source": [
    "# state action table\n",
    "Q_table = np.random.randn(500,6)\n",
    "\n",
    "# define epsilon and alpha\n",
    "eps = 0.2 # prob of random action\n",
    "alpha = 0.3 # learning rate\n",
    "\n",
    "# reset the state\n",
    "state = env.reset()\n",
    "\n",
    "# store rewards for all episodes, store number of iterations per episode\n",
    "episodes = 20000\n",
    "rewards = np.zeros(episodes)\n",
    "episode_length = np.zeros(episodes)\n",
    "\n",
    "# complete 20000 episodes\n",
    "for i in range(episodes):\n",
    "    # reset at start of episode\n",
    "    state = env.reset()\n",
    "    \n",
    "    # choose an action based on the current state\n",
    "    action = choose_action(state,Q_table,eps)\n",
    "\n",
    "    # take the action and collect reward\n",
    "    new_state, rew, done, _ = env.step(action)\n",
    "    rewards[i] = rew\n",
    "\n",
    "    # compute the temporal difference\n",
    "    td = rew + np.max(Q_table[new_state,:]) - Q_table[state,action]\n",
    "\n",
    "    # update the last state's Q value for that action\n",
    "    Q_table[state,action] += alpha*td\n",
    "\n",
    "    # save the current state\n",
    "    state = new_state\n",
    "\n",
    "    # keep taking actions and updating the table until the episode ends\n",
    "    while done == False:\n",
    "        # choose an action based on the current state\n",
    "        action = choose_action(state,Q_table,eps)\n",
    "\n",
    "        # take the action and collect reward\n",
    "        new_state, rew, done, _ = env.step(action)\n",
    "        rewards[i] += rew\n",
    "\n",
    "        # compute the temporal difference\n",
    "        td = rew + np.max(Q_table[new_state,:]) - Q_table[state,action]\n",
    "\n",
    "        # update the last state's Q value for that action\n",
    "        Q_table[state,action] += alpha*td\n",
    "\n",
    "        # update the state variable\n",
    "        state = new_state\n",
    "\n",
    "        # increment the episode length\n",
    "        episode_length[i] += 1"
   ]
  },
  {
   "cell_type": "code",
   "execution_count": 10,
   "metadata": {},
   "outputs": [],
   "source": [
    "def eval_policy(env, Q_table):\n",
    "    '''\n",
    "    Evaluates the environment using the given policy \n",
    "    Inputs:\n",
    "        env - gym env object\n",
    "        Q   - policy, we will use arg max Q. \n",
    "\n",
    "    Note that I use count to make sure we exit the \n",
    "    rendering if our policy takes longer than 50 steps. \n",
    "    This way we can observe arbitrary Q tables, feel\n",
    "    free to tune this value.  \n",
    "    '''\n",
    "    state = env.reset()\n",
    "    env.render()\n",
    "    done = False\n",
    "    count = 50\n",
    "    while not done:\n",
    "        count-=1\n",
    "        if count <= 0:\n",
    "            return\n",
    "\n",
    "        act = np.argmax(Q_table[state])\n",
    "        state, rew, done, _ = env.step(act)\n",
    "        env.render()\n",
    "\n",
    "        print('state: \\t', list(env.decode(state)))\n",
    "        print('rew: \\t', rew)\n",
    "        print('done: \\t', done)\n",
    "    # return\n"
   ]
  },
  {
   "cell_type": "markdown",
   "metadata": {},
   "source": [
    "We can now evaluate our policy using the Q table. \n"
   ]
  },
  {
   "cell_type": "code",
   "execution_count": 11,
   "metadata": {
    "tags": []
   },
   "outputs": [
    {
     "name": "stdout",
     "output_type": "stream",
     "text": [
      "+---------+\n",
      "|R: | : :G|\n",
      "| : | : : |\n",
      "| : : : : |\n",
      "| | : |\u001b[43m \u001b[0m: |\n",
      "|\u001b[34;1mY\u001b[0m| : |\u001b[35mB\u001b[0m: |\n",
      "+---------+\n",
      "\n",
      "+---------+\n",
      "|R: | : :G|\n",
      "| : | : : |\n",
      "| : : :\u001b[43m \u001b[0m: |\n",
      "| | : | : |\n",
      "|\u001b[34;1mY\u001b[0m| : |\u001b[35mB\u001b[0m: |\n",
      "+---------+\n",
      "  (North)\n",
      "state: \t [2, 3, 2, 3]\n",
      "rew: \t -1\n",
      "done: \t False\n",
      "+---------+\n",
      "|R: | : :G|\n",
      "| : | : : |\n",
      "| : :\u001b[43m \u001b[0m: : |\n",
      "| | : | : |\n",
      "|\u001b[34;1mY\u001b[0m| : |\u001b[35mB\u001b[0m: |\n",
      "+---------+\n",
      "  (West)\n",
      "state: \t [2, 2, 2, 3]\n",
      "rew: \t -1\n",
      "done: \t False\n",
      "+---------+\n",
      "|R: | : :G|\n",
      "| : | : : |\n",
      "| :\u001b[43m \u001b[0m: : : |\n",
      "| | : | : |\n",
      "|\u001b[34;1mY\u001b[0m| : |\u001b[35mB\u001b[0m: |\n",
      "+---------+\n",
      "  (West)\n",
      "state: \t [2, 1, 2, 3]\n",
      "rew: \t -1\n",
      "done: \t False\n",
      "+---------+\n",
      "|R: | : :G|\n",
      "| : | : : |\n",
      "|\u001b[43m \u001b[0m: : : : |\n",
      "| | : | : |\n",
      "|\u001b[34;1mY\u001b[0m| : |\u001b[35mB\u001b[0m: |\n",
      "+---------+\n",
      "  (West)\n",
      "state: \t [2, 0, 2, 3]\n",
      "rew: \t -1\n",
      "done: \t False\n",
      "+---------+\n",
      "|R: | : :G|\n",
      "| : | : : |\n",
      "| : : : : |\n",
      "|\u001b[43m \u001b[0m| : | : |\n",
      "|\u001b[34;1mY\u001b[0m| : |\u001b[35mB\u001b[0m: |\n",
      "+---------+\n",
      "  (South)\n",
      "state: \t [3, 0, 2, 3]\n",
      "rew: \t -1\n",
      "done: \t False\n",
      "+---------+\n",
      "|R: | : :G|\n",
      "| : | : : |\n",
      "| : : : : |\n",
      "| | : | : |\n",
      "|\u001b[34;1m\u001b[43mY\u001b[0m\u001b[0m| : |\u001b[35mB\u001b[0m: |\n",
      "+---------+\n",
      "  (South)\n",
      "state: \t [4, 0, 2, 3]\n",
      "rew: \t -1\n",
      "done: \t False\n",
      "+---------+\n",
      "|R: | : :G|\n",
      "| : | : : |\n",
      "| : : : : |\n",
      "| | : | : |\n",
      "|\u001b[42mY\u001b[0m| : |\u001b[35mB\u001b[0m: |\n",
      "+---------+\n",
      "  (Pickup)\n",
      "state: \t [4, 0, 4, 3]\n",
      "rew: \t -1\n",
      "done: \t False\n",
      "+---------+\n",
      "|R: | : :G|\n",
      "| : | : : |\n",
      "| : : : : |\n",
      "|\u001b[42m_\u001b[0m| : | : |\n",
      "|Y| : |\u001b[35mB\u001b[0m: |\n",
      "+---------+\n",
      "  (North)\n",
      "state: \t [3, 0, 4, 3]\n",
      "rew: \t -1\n",
      "done: \t False\n",
      "+---------+\n",
      "|R: | : :G|\n",
      "| : | : : |\n",
      "|\u001b[42m_\u001b[0m: : : : |\n",
      "| | : | : |\n",
      "|Y| : |\u001b[35mB\u001b[0m: |\n",
      "+---------+\n",
      "  (North)\n",
      "state: \t [2, 0, 4, 3]\n",
      "rew: \t -1\n",
      "done: \t False\n",
      "+---------+\n",
      "|R: | : :G|\n",
      "| : | : : |\n",
      "| :\u001b[42m_\u001b[0m: : : |\n",
      "| | : | : |\n",
      "|Y| : |\u001b[35mB\u001b[0m: |\n",
      "+---------+\n",
      "  (East)\n",
      "state: \t [2, 1, 4, 3]\n",
      "rew: \t -1\n",
      "done: \t False\n",
      "+---------+\n",
      "|R: | : :G|\n",
      "| : | : : |\n",
      "| : :\u001b[42m_\u001b[0m: : |\n",
      "| | : | : |\n",
      "|Y| : |\u001b[35mB\u001b[0m: |\n",
      "+---------+\n",
      "  (East)\n",
      "state: \t [2, 2, 4, 3]\n",
      "rew: \t -1\n",
      "done: \t False\n",
      "+---------+\n",
      "|R: | : :G|\n",
      "| : | : : |\n",
      "| : : :\u001b[42m_\u001b[0m: |\n",
      "| | : | : |\n",
      "|Y| : |\u001b[35mB\u001b[0m: |\n",
      "+---------+\n",
      "  (East)\n",
      "state: \t [2, 3, 4, 3]\n",
      "rew: \t -1\n",
      "done: \t False\n",
      "+---------+\n",
      "|R: | : :G|\n",
      "| : | : : |\n",
      "| : : : : |\n",
      "| | : |\u001b[42m_\u001b[0m: |\n",
      "|Y| : |\u001b[35mB\u001b[0m: |\n",
      "+---------+\n",
      "  (South)\n",
      "state: \t [3, 3, 4, 3]\n",
      "rew: \t -1\n",
      "done: \t False\n",
      "+---------+\n",
      "|R: | : :G|\n",
      "| : | : : |\n",
      "| : : : : |\n",
      "| | : | : |\n",
      "|Y| : |\u001b[35m\u001b[42mB\u001b[0m\u001b[0m: |\n",
      "+---------+\n",
      "  (South)\n",
      "state: \t [4, 3, 4, 3]\n",
      "rew: \t -1\n",
      "done: \t False\n",
      "+---------+\n",
      "|R: | : :G|\n",
      "| : | : : |\n",
      "| : : : : |\n",
      "| | : | : |\n",
      "|Y| : |\u001b[35m\u001b[34;1m\u001b[43mB\u001b[0m\u001b[0m\u001b[0m: |\n",
      "+---------+\n",
      "  (Dropoff)\n",
      "state: \t [4, 3, 3, 3]\n",
      "rew: \t 20\n",
      "done: \t True\n"
     ]
    }
   ],
   "source": [
    "eval_policy(env, Q_table)"
   ]
  },
  {
   "cell_type": "markdown",
   "metadata": {},
   "source": [
    "Feel free to use this template for your second task."
   ]
  },
  {
   "cell_type": "code",
   "execution_count": 12,
   "metadata": {},
   "outputs": [],
   "source": [
    "import matplotlib.pyplot as plt\n",
    "from matplotlib import rc\n",
    "import matplotlib as mpl\n",
    "# colors used\n",
    "ORANGE = '#FF9132'\n",
    "TEAL = '#0598B0'\n",
    "GREEN = '#008F00'\n",
    "PURPLE = '#8A2BE2'\n",
    "GRAY = '#969696'\n",
    "FIG_WIDTH = 4\n",
    "FIG_HEIGHT = 3\n",
    "\n",
    "plt.rcParams.update({\n",
    "    \"text.usetex\": False,\n",
    "    \"font.family\": \"DejaVu Sans\",\n",
    "    \"font.serif\": [\"Palatino\"],\n",
    "    \"font.size\": 12,\n",
    "    \"axes.titlesize\": 15,\n",
    "    \"axes.spines.right\": False,\n",
    "    \"axes.spines.top\": False,\n",
    "    \"lines.linewidth\": 2\n",
    "})"
   ]
  },
  {
   "cell_type": "markdown",
   "metadata": {},
   "source": [
    "Task (2):\n",
    "\n",
    "Plot your data below."
   ]
  },
  {
   "cell_type": "code",
   "execution_count": 13,
   "metadata": {},
   "outputs": [
    {
     "data": {
      "text/plain": [
       "([<matplotlib.axis.XTick at 0x1b36fee1340>,\n",
       "  <matplotlib.axis.XTick at 0x1b36fee1310>,\n",
       "  <matplotlib.axis.XTick at 0x1b36fec4eb0>,\n",
       "  <matplotlib.axis.XTick at 0x1b371f25070>,\n",
       "  <matplotlib.axis.XTick at 0x1b371f25580>],\n",
       " [Text(0, 0, ''),\n",
       "  Text(0, 0, ''),\n",
       "  Text(0, 0, ''),\n",
       "  Text(0, 0, ''),\n",
       "  Text(0, 0, '')])"
      ]
     },
     "execution_count": 13,
     "metadata": {},
     "output_type": "execute_result"
    },
    {
     "data": {
      "image/png": "[encoded data removed]",
      "text/plain": [
       "<Figure size 432x288 with 1 Axes>"
      ]
     },
     "metadata": {
      "needs_background": "light"
     },
     "output_type": "display_data"
    }
   ],
   "source": [
    "# generate an exponentially smoothed version of the plot\n",
    "smoothed = np.zeros(episodes)\n",
    "smoothed[0] = rewards[0]\n",
    "alpha = 0.05\n",
    "for i,reward in enumerate(rewards):\n",
    "    if i == episodes-1:\n",
    "        break\n",
    "    smoothed[i+1] = alpha*reward+(1-alpha)*smoothed[i]\n",
    "plt.plot(smoothed)\n",
    "plt.title(\"Tabular Q-Learning\")\n",
    "plt.ylabel(\"Episode Reward\")\n",
    "plt.xlabel(\"Episode\")\n",
    "plt.xticks([0,5000,10000,15000,20000])"
   ]
  },
  {
   "cell_type": "code",
   "execution_count": null,
   "metadata": {},
   "outputs": [],
   "source": []
  }
 ],
 "metadata": {
  "interpreter": {
   "hash": "12fed321ce14db8c70d5fd7d87816765955c1efc0c914b111c5a8918a271e9da"
  },
  "kernelspec": {
   "display_name": "Python 3.8.5 ('lab')",
   "language": "python",
   "name": "python3"
  },
  "language_info": {
   "codemirror_mode": {
    "name": "ipython",
    "version": 3
   },
   "file_extension": ".py",
   "mimetype": "text/x-python",
   "name": "python",
   "nbconvert_exporter": "python",
   "pygments_lexer": "ipython3",
   "version": "3.8.5"
  },
  "metadata": {
   "interpreter": {
    "hash": "e14277392997ec7b8d0d4e1eacc6a12462d831e78f154a1c368aae24d965e9e8"
   }
  },
  "orig_nbformat": 2
 },
 "nbformat": 4,
 "nbformat_minor": 2
}
